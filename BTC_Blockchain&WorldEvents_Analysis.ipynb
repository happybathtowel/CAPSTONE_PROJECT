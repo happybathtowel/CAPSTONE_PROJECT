{
 "cells": [
  {
   "cell_type": "markdown",
   "id": "d0209ea5",
   "metadata": {},
   "source": [
    "Goal: Examine correlations between global,socially significant events and Bitcoin blockchain metrics (block congestion, price movement, metadata notes) over time.\n",
    "Utilizing publick bitcoin blockchain datasets stored in bigquery\n",
    "to begin, I installed the following libraries:\n",
    "pip install google-cloud-bigquery pandas pyarrow\n",
    "\n",
    "Once I started trying to communicate with bigquery database, I had to also install:\n",
    "pip install db-dtypes\n",
    "to help pandas understand how to display data types used in SQL like \"DATE, TIMESTAMP, STRUCT,etc.\n",
    "\n",
    "Tables used:\n",
    " \n",
    "A. bigquery-public-data.bitcoin_blockchain.blocks table\n",
    "B. bigquery-public-data.bitcoin_blockchain.transactions table\n",
    "C. bigquery-public-data.crypto_bitcoin.outputs table\n"
   ]
  },
  {
   "cell_type": "code",
   "execution_count": 1,
   "id": "b6a8c4bb",
   "metadata": {},
   "outputs": [
    {
     "name": "stdout",
     "output_type": "stream",
     "text": [
      "Defaulting to user installation because normal site-packages is not writeable\n",
      "Requirement already satisfied: db-dtypes==1.4.3 in c:\\users\\smby2\\appdata\\roaming\\python\\python313\\site-packages (from -r requirements.txt (line 1)) (1.4.3)\n",
      "Requirement already satisfied: google-cloud-bigquery==3.34.0 in c:\\users\\smby2\\appdata\\roaming\\python\\python313\\site-packages (from -r requirements.txt (line 2)) (3.34.0)\n",
      "Collecting google-cloud-bigquery-storage==2.32.0 (from -r requirements.txt (line 3))\n",
      "  Downloading google_cloud_bigquery_storage-2.32.0-py3-none-any.whl.metadata (9.8 kB)\n",
      "Requirement already satisfied: ipykernel==6.29.5 in c:\\users\\smby2\\appdata\\roaming\\python\\python313\\site-packages (from -r requirements.txt (line 4)) (6.29.5)\n",
      "Requirement already satisfied: ipython==9.0.2 in c:\\users\\smby2\\appdata\\roaming\\python\\python313\\site-packages (from -r requirements.txt (line 5)) (9.0.2)\n",
      "Requirement already satisfied: pandas==2.2.3 in c:\\users\\smby2\\appdata\\roaming\\python\\python313\\site-packages (from -r requirements.txt (line 6)) (2.2.3)\n",
      "Requirement already satisfied: pyarrow==20.0.0 in c:\\users\\smby2\\appdata\\roaming\\python\\python313\\site-packages (from -r requirements.txt (line 7)) (20.0.0)\n",
      "Requirement already satisfied: numpy>=1.24.0 in c:\\users\\smby2\\appdata\\roaming\\python\\python313\\site-packages (from db-dtypes==1.4.3->-r requirements.txt (line 1)) (2.2.4)\n",
      "Requirement already satisfied: packaging>=24.2.0 in c:\\users\\smby2\\appdata\\roaming\\python\\python313\\site-packages (from db-dtypes==1.4.3->-r requirements.txt (line 1)) (24.2)\n",
      "Requirement already satisfied: google-api-core<3.0.0,>=2.11.1 in c:\\users\\smby2\\appdata\\roaming\\python\\python313\\site-packages (from google-api-core[grpc]<3.0.0,>=2.11.1->google-cloud-bigquery==3.34.0->-r requirements.txt (line 2)) (2.24.2)\n",
      "Requirement already satisfied: google-auth<3.0.0,>=2.14.1 in c:\\users\\smby2\\appdata\\roaming\\python\\python313\\site-packages (from google-cloud-bigquery==3.34.0->-r requirements.txt (line 2)) (2.40.2)\n",
      "Requirement already satisfied: google-cloud-core<3.0.0,>=2.4.1 in c:\\users\\smby2\\appdata\\roaming\\python\\python313\\site-packages (from google-cloud-bigquery==3.34.0->-r requirements.txt (line 2)) (2.4.3)\n",
      "Requirement already satisfied: google-resumable-media<3.0.0,>=2.0.0 in c:\\users\\smby2\\appdata\\roaming\\python\\python313\\site-packages (from google-cloud-bigquery==3.34.0->-r requirements.txt (line 2)) (2.7.2)\n",
      "Requirement already satisfied: python-dateutil<3.0.0,>=2.8.2 in c:\\users\\smby2\\appdata\\roaming\\python\\python313\\site-packages (from google-cloud-bigquery==3.34.0->-r requirements.txt (line 2)) (2.9.0.post0)\n",
      "Requirement already satisfied: requests<3.0.0,>=2.21.0 in c:\\users\\smby2\\appdata\\roaming\\python\\python313\\site-packages (from google-cloud-bigquery==3.34.0->-r requirements.txt (line 2)) (2.32.3)\n",
      "Requirement already satisfied: proto-plus<2.0.0,>=1.22.0 in c:\\users\\smby2\\appdata\\roaming\\python\\python313\\site-packages (from google-cloud-bigquery-storage==2.32.0->-r requirements.txt (line 3)) (1.26.1)\n",
      "Requirement already satisfied: protobuf!=3.20.0,!=3.20.1,!=4.21.0,!=4.21.1,!=4.21.2,!=4.21.3,!=4.21.4,!=4.21.5,<7.0.0,>=3.20.2 in c:\\users\\smby2\\appdata\\roaming\\python\\python313\\site-packages (from google-cloud-bigquery-storage==2.32.0->-r requirements.txt (line 3)) (6.31.1)\n",
      "Requirement already satisfied: comm>=0.1.1 in c:\\users\\smby2\\appdata\\roaming\\python\\python313\\site-packages (from ipykernel==6.29.5->-r requirements.txt (line 4)) (0.2.2)\n",
      "Requirement already satisfied: debugpy>=1.6.5 in c:\\users\\smby2\\appdata\\roaming\\python\\python313\\site-packages (from ipykernel==6.29.5->-r requirements.txt (line 4)) (1.8.13)\n",
      "Requirement already satisfied: jupyter-client>=6.1.12 in c:\\users\\smby2\\appdata\\roaming\\python\\python313\\site-packages (from ipykernel==6.29.5->-r requirements.txt (line 4)) (8.6.3)\n",
      "Requirement already satisfied: jupyter-core!=5.0.*,>=4.12 in c:\\users\\smby2\\appdata\\roaming\\python\\python313\\site-packages (from ipykernel==6.29.5->-r requirements.txt (line 4)) (5.7.2)\n",
      "Requirement already satisfied: matplotlib-inline>=0.1 in c:\\users\\smby2\\appdata\\roaming\\python\\python313\\site-packages (from ipykernel==6.29.5->-r requirements.txt (line 4)) (0.1.7)\n",
      "Requirement already satisfied: nest-asyncio in c:\\users\\smby2\\appdata\\roaming\\python\\python313\\site-packages (from ipykernel==6.29.5->-r requirements.txt (line 4)) (1.6.0)\n",
      "Requirement already satisfied: psutil in c:\\users\\smby2\\appdata\\roaming\\python\\python313\\site-packages (from ipykernel==6.29.5->-r requirements.txt (line 4)) (7.0.0)\n",
      "Requirement already satisfied: pyzmq>=24 in c:\\users\\smby2\\appdata\\roaming\\python\\python313\\site-packages (from ipykernel==6.29.5->-r requirements.txt (line 4)) (26.3.0)\n",
      "Requirement already satisfied: tornado>=6.1 in c:\\users\\smby2\\appdata\\roaming\\python\\python313\\site-packages (from ipykernel==6.29.5->-r requirements.txt (line 4)) (6.4.2)\n",
      "Requirement already satisfied: traitlets>=5.4.0 in c:\\users\\smby2\\appdata\\roaming\\python\\python313\\site-packages (from ipykernel==6.29.5->-r requirements.txt (line 4)) (5.14.3)\n",
      "Requirement already satisfied: colorama in c:\\users\\smby2\\appdata\\roaming\\python\\python313\\site-packages (from ipython==9.0.2->-r requirements.txt (line 5)) (0.4.6)\n",
      "Requirement already satisfied: decorator in c:\\users\\smby2\\appdata\\roaming\\python\\python313\\site-packages (from ipython==9.0.2->-r requirements.txt (line 5)) (5.2.1)\n",
      "Requirement already satisfied: ipython-pygments-lexers in c:\\users\\smby2\\appdata\\roaming\\python\\python313\\site-packages (from ipython==9.0.2->-r requirements.txt (line 5)) (1.1.1)\n",
      "Requirement already satisfied: jedi>=0.16 in c:\\users\\smby2\\appdata\\roaming\\python\\python313\\site-packages (from ipython==9.0.2->-r requirements.txt (line 5)) (0.19.2)\n",
      "Requirement already satisfied: prompt_toolkit<3.1.0,>=3.0.41 in c:\\users\\smby2\\appdata\\roaming\\python\\python313\\site-packages (from ipython==9.0.2->-r requirements.txt (line 5)) (3.0.50)\n",
      "Requirement already satisfied: pygments>=2.4.0 in c:\\users\\smby2\\appdata\\roaming\\python\\python313\\site-packages (from ipython==9.0.2->-r requirements.txt (line 5)) (2.19.1)\n",
      "Requirement already satisfied: stack_data in c:\\users\\smby2\\appdata\\roaming\\python\\python313\\site-packages (from ipython==9.0.2->-r requirements.txt (line 5)) (0.6.3)\n",
      "Requirement already satisfied: pytz>=2020.1 in c:\\users\\smby2\\appdata\\roaming\\python\\python313\\site-packages (from pandas==2.2.3->-r requirements.txt (line 6)) (2025.2)\n",
      "Requirement already satisfied: tzdata>=2022.7 in c:\\users\\smby2\\appdata\\roaming\\python\\python313\\site-packages (from pandas==2.2.3->-r requirements.txt (line 6)) (2025.2)\n",
      "Requirement already satisfied: googleapis-common-protos<2.0.0,>=1.56.2 in c:\\users\\smby2\\appdata\\roaming\\python\\python313\\site-packages (from google-api-core<3.0.0,>=2.11.1->google-api-core[grpc]<3.0.0,>=2.11.1->google-cloud-bigquery==3.34.0->-r requirements.txt (line 2)) (1.70.0)\n",
      "Requirement already satisfied: grpcio<2.0dev,>=1.33.2 in c:\\users\\smby2\\appdata\\roaming\\python\\python313\\site-packages (from google-api-core[grpc]<3.0.0,>=2.11.1->google-cloud-bigquery==3.34.0->-r requirements.txt (line 2)) (1.73.0rc1)\n",
      "Requirement already satisfied: grpcio-status<2.0.dev0,>=1.33.2 in c:\\users\\smby2\\appdata\\roaming\\python\\python313\\site-packages (from google-api-core[grpc]<3.0.0,>=2.11.1->google-cloud-bigquery==3.34.0->-r requirements.txt (line 2)) (1.73.0rc1)\n",
      "Requirement already satisfied: cachetools<6.0,>=2.0.0 in c:\\users\\smby2\\appdata\\roaming\\python\\python313\\site-packages (from google-auth<3.0.0,>=2.14.1->google-cloud-bigquery==3.34.0->-r requirements.txt (line 2)) (5.5.2)\n",
      "Requirement already satisfied: pyasn1-modules>=0.2.1 in c:\\users\\smby2\\appdata\\roaming\\python\\python313\\site-packages (from google-auth<3.0.0,>=2.14.1->google-cloud-bigquery==3.34.0->-r requirements.txt (line 2)) (0.4.2)\n",
      "Requirement already satisfied: rsa<5,>=3.1.4 in c:\\users\\smby2\\appdata\\roaming\\python\\python313\\site-packages (from google-auth<3.0.0,>=2.14.1->google-cloud-bigquery==3.34.0->-r requirements.txt (line 2)) (4.9.1)\n",
      "Requirement already satisfied: google-crc32c<2.0dev,>=1.0 in c:\\users\\smby2\\appdata\\roaming\\python\\python313\\site-packages (from google-resumable-media<3.0.0,>=2.0.0->google-cloud-bigquery==3.34.0->-r requirements.txt (line 2)) (1.7.1)\n",
      "Requirement already satisfied: wcwidth in c:\\users\\smby2\\appdata\\roaming\\python\\python313\\site-packages (from prompt_toolkit<3.1.0,>=3.0.41->ipython==9.0.2->-r requirements.txt (line 5)) (0.2.13)\n",
      "Requirement already satisfied: six>=1.5 in c:\\users\\smby2\\appdata\\roaming\\python\\python313\\site-packages (from python-dateutil<3.0.0,>=2.8.2->google-cloud-bigquery==3.34.0->-r requirements.txt (line 2)) (1.17.0)\n",
      "Requirement already satisfied: charset-normalizer<4,>=2 in c:\\users\\smby2\\appdata\\roaming\\python\\python313\\site-packages (from requests<3.0.0,>=2.21.0->google-cloud-bigquery==3.34.0->-r requirements.txt (line 2)) (3.4.2)\n",
      "Requirement already satisfied: idna<4,>=2.5 in c:\\users\\smby2\\appdata\\roaming\\python\\python313\\site-packages (from requests<3.0.0,>=2.21.0->google-cloud-bigquery==3.34.0->-r requirements.txt (line 2)) (3.10)\n",
      "Requirement already satisfied: urllib3<3,>=1.21.1 in c:\\users\\smby2\\appdata\\roaming\\python\\python313\\site-packages (from requests<3.0.0,>=2.21.0->google-cloud-bigquery==3.34.0->-r requirements.txt (line 2)) (2.4.0)\n",
      "Requirement already satisfied: certifi>=2017.4.17 in c:\\users\\smby2\\appdata\\roaming\\python\\python313\\site-packages (from requests<3.0.0,>=2.21.0->google-cloud-bigquery==3.34.0->-r requirements.txt (line 2)) (2025.4.26)\n",
      "Requirement already satisfied: pyasn1>=0.1.3 in c:\\users\\smby2\\appdata\\roaming\\python\\python313\\site-packages (from rsa<5,>=3.1.4->google-auth<3.0.0,>=2.14.1->google-cloud-bigquery==3.34.0->-r requirements.txt (line 2)) (0.6.1)\n",
      "Requirement already satisfied: parso<0.9.0,>=0.8.4 in c:\\users\\smby2\\appdata\\roaming\\python\\python313\\site-packages (from jedi>=0.16->ipython==9.0.2->-r requirements.txt (line 5)) (0.8.4)\n",
      "Requirement already satisfied: platformdirs>=2.5 in c:\\users\\smby2\\appdata\\roaming\\python\\python313\\site-packages (from jupyter-core!=5.0.*,>=4.12->ipykernel==6.29.5->-r requirements.txt (line 4)) (4.3.6)\n",
      "Requirement already satisfied: pywin32>=300 in c:\\users\\smby2\\appdata\\roaming\\python\\python313\\site-packages (from jupyter-core!=5.0.*,>=4.12->ipykernel==6.29.5->-r requirements.txt (line 4)) (309)\n",
      "Requirement already satisfied: executing>=1.2.0 in c:\\users\\smby2\\appdata\\roaming\\python\\python313\\site-packages (from stack_data->ipython==9.0.2->-r requirements.txt (line 5)) (2.2.0)\n",
      "Requirement already satisfied: asttokens>=2.1.0 in c:\\users\\smby2\\appdata\\roaming\\python\\python313\\site-packages (from stack_data->ipython==9.0.2->-r requirements.txt (line 5)) (3.0.0)\n",
      "Requirement already satisfied: pure-eval in c:\\users\\smby2\\appdata\\roaming\\python\\python313\\site-packages (from stack_data->ipython==9.0.2->-r requirements.txt (line 5)) (0.2.3)\n",
      "Downloading google_cloud_bigquery_storage-2.32.0-py3-none-any.whl (296 kB)\n",
      "Installing collected packages: google-cloud-bigquery-storage\n",
      "Successfully installed google-cloud-bigquery-storage-2.32.0\n",
      "Note: you may need to restart the kernel to use updated packages.\n"
     ]
    }
   ],
   "source": [
    "%pip install -r requirements.txt\n"
   ]
  },
  {
   "cell_type": "code",
   "execution_count": 2,
   "id": "08dae270",
   "metadata": {},
   "outputs": [],
   "source": [
    "from google.cloud import bigquery\n",
    "import os\n",
    "#Set the environement variable for key file (telling python where my login key file is)\n",
    "os.environ[\"GOOGLE_APPLICATION_CREDENTIALS\"] = \"Credentials/capstone-project-461516-4b2a88c5f4cd.json\"\n",
    "#Start the BigQuery client using my key\n",
    "client = bigquery.Client()\n",
    "\n"
   ]
  },
  {
   "cell_type": "code",
   "execution_count": null,
   "id": "27ed754f",
   "metadata": {},
   "outputs": [
    {
     "name": "stderr",
     "output_type": "stream",
     "text": [
      "C:\\Users\\smby2\\AppData\\Roaming\\Python\\Python313\\site-packages\\google\\cloud\\bigquery\\table.py:1957: UserWarning: BigQuery Storage module not found, fetch data with the REST endpoint instead.\n",
      "  warnings.warn(\n"
     ]
    },
    {
     "name": "stdout",
     "output_type": "stream",
     "text": [
      "<class 'pandas.core.frame.DataFrame'>\n",
      "RangeIndex: 5 entries, 0 to 4\n",
      "Data columns (total 11 columns):\n",
      " #   Column            Non-Null Count  Dtype \n",
      "---  ------            --------------  ----- \n",
      " 0   block_id          5 non-null      object\n",
      " 1   previous_block    5 non-null      object\n",
      " 2   merkle_root       5 non-null      object\n",
      " 3   timestamp         5 non-null      Int64 \n",
      " 4   difficultyTarget  5 non-null      Int64 \n",
      " 5   nonce             5 non-null      Int64 \n",
      " 6   version           5 non-null      Int64 \n",
      " 7   work_terahash     5 non-null      Int64 \n",
      " 8   work_error        0 non-null      object\n",
      " 9   transactions      5 non-null      object\n",
      " 10  row_number        5 non-null      Int64 \n",
      "dtypes: Int64(6), object(5)\n",
      "memory usage: 602.0+ bytes\n"
     ]
    }
   ],
   "source": [
    "# running a query on the bitcoin blockchain.blocks table to see what kind of columns there are:\n",
    "query0 = \"\"\"\n",
    "    SELECT *\n",
    "    FROM `bigquery-public-data.bitcoin_blockchain.blocks`\n",
    "    LIMIT 5\n",
    "\n",
    "\"\"\"\n",
    "df_blocks = client.query(query0).to_dataframe()\n",
    "df_blocks.info()"
   ]
  },
  {
   "cell_type": "code",
   "execution_count": 7,
   "id": "6b68fa6a",
   "metadata": {},
   "outputs": [
    {
     "name": "stderr",
     "output_type": "stream",
     "text": [
      "C:\\Users\\smby2\\AppData\\Roaming\\Python\\Python313\\site-packages\\google\\cloud\\bigquery\\table.py:1957: UserWarning: BigQuery Storage module not found, fetch data with the REST endpoint instead.\n",
      "  warnings.warn(\n"
     ]
    },
    {
     "name": "stdout",
     "output_type": "stream",
     "text": [
      "<class 'pandas.core.frame.DataFrame'>\n",
      "RangeIndex: 5 entries, 0 to 4\n",
      "Data columns (total 11 columns):\n",
      " #   Column          Non-Null Count  Dtype \n",
      "---  ------          --------------  ----- \n",
      " 0   timestamp       5 non-null      Int64 \n",
      " 1   transaction_id  5 non-null      object\n",
      " 2   inputs          5 non-null      object\n",
      " 3   outputs         5 non-null      object\n",
      " 4   block_id        5 non-null      object\n",
      " 5   previous_block  5 non-null      object\n",
      " 6   merkle_root     5 non-null      object\n",
      " 7   nonce           5 non-null      Int64 \n",
      " 8   version         5 non-null      Int64 \n",
      " 9   work_terahash   5 non-null      Int64 \n",
      " 10  work_error      0 non-null      object\n",
      "dtypes: Int64(4), object(7)\n",
      "memory usage: 592.0+ bytes\n"
     ]
    }
   ],
   "source": [
    "# running a query on the bitcoin blockchain.transactions table to see what kind of columns there are:\n",
    "query01 = \"\"\"\n",
    "    SELECT *\n",
    "    FROM `bigquery-public-data.bitcoin_blockchain.transactions`\n",
    "    LIMIT 5\n",
    "\n",
    "\"\"\"\n",
    "df_transactions = client.query(query01).to_dataframe()\n",
    "df_transactions.info()"
   ]
  },
  {
   "cell_type": "code",
   "execution_count": 8,
   "id": "141b8020",
   "metadata": {},
   "outputs": [
    {
     "data": {
      "text/html": [
       "<div>\n",
       "<style scoped>\n",
       "    .dataframe tbody tr th:only-of-type {\n",
       "        vertical-align: middle;\n",
       "    }\n",
       "\n",
       "    .dataframe tbody tr th {\n",
       "        vertical-align: top;\n",
       "    }\n",
       "\n",
       "    .dataframe thead th {\n",
       "        text-align: right;\n",
       "    }\n",
       "</style>\n",
       "<table border=\"1\" class=\"dataframe\">\n",
       "  <thead>\n",
       "    <tr style=\"text-align: right;\">\n",
       "      <th></th>\n",
       "      <th>timestamp</th>\n",
       "      <th>transaction_id</th>\n",
       "      <th>inputs</th>\n",
       "      <th>outputs</th>\n",
       "      <th>block_id</th>\n",
       "      <th>previous_block</th>\n",
       "      <th>merkle_root</th>\n",
       "      <th>nonce</th>\n",
       "      <th>version</th>\n",
       "      <th>work_terahash</th>\n",
       "      <th>work_error</th>\n",
       "    </tr>\n",
       "  </thead>\n",
       "  <tbody>\n",
       "    <tr>\n",
       "      <th>0</th>\n",
       "      <td>1236391160000</td>\n",
       "      <td>8326f021b328ee0d14d4d366a9f6e6f0be68ea60f7e5a6...</td>\n",
       "      <td>[{'input_script_bytes': b'\\x04\\xff\\xff\\x00\\x1d...</td>\n",
       "      <td>[{'output_satoshis': 5000000000, 'output_scrip...</td>\n",
       "      <td>000000007fc54ccef03a1386155e5fd10229a80d592bd6...</td>\n",
       "      <td>00000000b46bb9d830499302bcf3e544e679897ab59553...</td>\n",
       "      <td>8326f021b328ee0d14d4d366a9f6e6f0be68ea60f7e5a6...</td>\n",
       "      <td>71398302</td>\n",
       "      <td>1</td>\n",
       "      <td>0</td>\n",
       "      <td>None</td>\n",
       "    </tr>\n",
       "    <tr>\n",
       "      <th>1</th>\n",
       "      <td>1277390708000</td>\n",
       "      <td>85d7c3a8beafe9bcacffe974a84ced6ad08ff8f2bf5ba2...</td>\n",
       "      <td>[{'input_script_bytes': b'\\x04B1\\r\\x1c\\x02O\\x1...</td>\n",
       "      <td>[{'output_satoshis': 5000000000, 'output_scrip...</td>\n",
       "      <td>000000000393cb2dc72fc296c66d9a19d2c01493e70c6d...</td>\n",
       "      <td>000000000aee77db52b067bf6df9367b0b7cf27af8eae9...</td>\n",
       "      <td>f397614fb38ff8a145124839e15b7967567d22857b0fc4...</td>\n",
       "      <td>353990997</td>\n",
       "      <td>1</td>\n",
       "      <td>0</td>\n",
       "      <td>None</td>\n",
       "    </tr>\n",
       "    <tr>\n",
       "      <th>2</th>\n",
       "      <td>1262550231000</td>\n",
       "      <td>13ab738b73ee3b58cdf78ce85e1c77e1c37626a2806b28...</td>\n",
       "      <td>[{'input_script_bytes': b'\\x04j\\xd8\\x00\\x1d\\x0...</td>\n",
       "      <td>[{'output_satoshis': 5000000000, 'output_scrip...</td>\n",
       "      <td>00000000c57747a26508ddee9c24fd14d7e2cd597af20d...</td>\n",
       "      <td>000000009f3ab6a1c4f6887b1039deb6b28a5e00e6bd80...</td>\n",
       "      <td>13ab738b73ee3b58cdf78ce85e1c77e1c37626a2806b28...</td>\n",
       "      <td>167000329</td>\n",
       "      <td>1</td>\n",
       "      <td>0</td>\n",
       "      <td>None</td>\n",
       "    </tr>\n",
       "    <tr>\n",
       "      <th>3</th>\n",
       "      <td>1272343543000</td>\n",
       "      <td>d62314bb2d951f836ca9456cf2b951ddd74120b59ec299...</td>\n",
       "      <td>[{'input_script_bytes': b'\\x04oT\\x16\\x1c\\x02a\\...</td>\n",
       "      <td>[{'output_satoshis': 5000000000, 'output_scrip...</td>\n",
       "      <td>00000000080a0475223cbbc2da042d2e172b1de0f36fe4...</td>\n",
       "      <td>000000000769d691530735d4ec558c9857da83cd9767df...</td>\n",
       "      <td>d62314bb2d951f836ca9456cf2b951ddd74120b59ec299...</td>\n",
       "      <td>172080494</td>\n",
       "      <td>1</td>\n",
       "      <td>0</td>\n",
       "      <td>None</td>\n",
       "    </tr>\n",
       "    <tr>\n",
       "      <th>4</th>\n",
       "      <td>1257606481000</td>\n",
       "      <td>28ccad7d77ecbb1f5ecc456168831818ef2f1bf27d3e88...</td>\n",
       "      <td>[{'input_script_bytes': b'\\x04\\xff\\xff\\x00\\x1d...</td>\n",
       "      <td>[{'output_satoshis': 5000000000, 'output_scrip...</td>\n",
       "      <td>0000000095d27443f3592d1486f444f1a3773a2dbde637...</td>\n",
       "      <td>0000000089c4eb2d48b233587f89afa255b61f497b0310...</td>\n",
       "      <td>28ccad7d77ecbb1f5ecc456168831818ef2f1bf27d3e88...</td>\n",
       "      <td>2849869340</td>\n",
       "      <td>1</td>\n",
       "      <td>0</td>\n",
       "      <td>None</td>\n",
       "    </tr>\n",
       "  </tbody>\n",
       "</table>\n",
       "</div>"
      ],
      "text/plain": [
       "       timestamp                                     transaction_id  \\\n",
       "0  1236391160000  8326f021b328ee0d14d4d366a9f6e6f0be68ea60f7e5a6...   \n",
       "1  1277390708000  85d7c3a8beafe9bcacffe974a84ced6ad08ff8f2bf5ba2...   \n",
       "2  1262550231000  13ab738b73ee3b58cdf78ce85e1c77e1c37626a2806b28...   \n",
       "3  1272343543000  d62314bb2d951f836ca9456cf2b951ddd74120b59ec299...   \n",
       "4  1257606481000  28ccad7d77ecbb1f5ecc456168831818ef2f1bf27d3e88...   \n",
       "\n",
       "                                              inputs  \\\n",
       "0  [{'input_script_bytes': b'\\x04\\xff\\xff\\x00\\x1d...   \n",
       "1  [{'input_script_bytes': b'\\x04B1\\r\\x1c\\x02O\\x1...   \n",
       "2  [{'input_script_bytes': b'\\x04j\\xd8\\x00\\x1d\\x0...   \n",
       "3  [{'input_script_bytes': b'\\x04oT\\x16\\x1c\\x02a\\...   \n",
       "4  [{'input_script_bytes': b'\\x04\\xff\\xff\\x00\\x1d...   \n",
       "\n",
       "                                             outputs  \\\n",
       "0  [{'output_satoshis': 5000000000, 'output_scrip...   \n",
       "1  [{'output_satoshis': 5000000000, 'output_scrip...   \n",
       "2  [{'output_satoshis': 5000000000, 'output_scrip...   \n",
       "3  [{'output_satoshis': 5000000000, 'output_scrip...   \n",
       "4  [{'output_satoshis': 5000000000, 'output_scrip...   \n",
       "\n",
       "                                            block_id  \\\n",
       "0  000000007fc54ccef03a1386155e5fd10229a80d592bd6...   \n",
       "1  000000000393cb2dc72fc296c66d9a19d2c01493e70c6d...   \n",
       "2  00000000c57747a26508ddee9c24fd14d7e2cd597af20d...   \n",
       "3  00000000080a0475223cbbc2da042d2e172b1de0f36fe4...   \n",
       "4  0000000095d27443f3592d1486f444f1a3773a2dbde637...   \n",
       "\n",
       "                                      previous_block  \\\n",
       "0  00000000b46bb9d830499302bcf3e544e679897ab59553...   \n",
       "1  000000000aee77db52b067bf6df9367b0b7cf27af8eae9...   \n",
       "2  000000009f3ab6a1c4f6887b1039deb6b28a5e00e6bd80...   \n",
       "3  000000000769d691530735d4ec558c9857da83cd9767df...   \n",
       "4  0000000089c4eb2d48b233587f89afa255b61f497b0310...   \n",
       "\n",
       "                                         merkle_root       nonce  version  \\\n",
       "0  8326f021b328ee0d14d4d366a9f6e6f0be68ea60f7e5a6...    71398302        1   \n",
       "1  f397614fb38ff8a145124839e15b7967567d22857b0fc4...   353990997        1   \n",
       "2  13ab738b73ee3b58cdf78ce85e1c77e1c37626a2806b28...   167000329        1   \n",
       "3  d62314bb2d951f836ca9456cf2b951ddd74120b59ec299...   172080494        1   \n",
       "4  28ccad7d77ecbb1f5ecc456168831818ef2f1bf27d3e88...  2849869340        1   \n",
       "\n",
       "   work_terahash work_error  \n",
       "0              0       None  \n",
       "1              0       None  \n",
       "2              0       None  \n",
       "3              0       None  \n",
       "4              0       None  "
      ]
     },
     "execution_count": 8,
     "metadata": {},
     "output_type": "execute_result"
    }
   ],
   "source": [
    "df_transactions.head()\n"
   ]
  },
  {
   "cell_type": "code",
   "execution_count": 7,
   "id": "0c998f7d",
   "metadata": {},
   "outputs": [
    {
     "name": "stdout",
     "output_type": "stream",
     "text": [
      "<class 'pandas.core.frame.DataFrame'>\n",
      "RangeIndex: 5 entries, 0 to 4\n",
      "Data columns (total 11 columns):\n",
      " #   Column               Non-Null Count  Dtype              \n",
      "---  ------               --------------  -----              \n",
      " 0   transaction_hash     5 non-null      object             \n",
      " 1   block_hash           5 non-null      object             \n",
      " 2   block_number         5 non-null      Int64              \n",
      " 3   block_timestamp      5 non-null      datetime64[us, UTC]\n",
      " 4   index                5 non-null      Int64              \n",
      " 5   script_asm           5 non-null      object             \n",
      " 6   script_hex           5 non-null      object             \n",
      " 7   required_signatures  0 non-null      Int64              \n",
      " 8   type                 5 non-null      object             \n",
      " 9   addresses            5 non-null      object             \n",
      " 10  value                5 non-null      object             \n",
      "dtypes: Int64(3), datetime64[us, UTC](1), object(7)\n",
      "memory usage: 587.0+ bytes\n"
     ]
    }
   ],
   "source": [
    "# running a query on the bitcoin blockchain.outputs table to see what kind of columns there are:\n",
    "query02 = '''\n",
    "SELECT *\n",
    "FROM `bigquery-public-data.crypto_bitcoin.outputs`\n",
    "LIMIT 5\n",
    "\n",
    "'''\n",
    "df_outputs = client.query(query02).to_dataframe()\n",
    "df_outputs.info()"
   ]
  },
  {
   "cell_type": "code",
   "execution_count": 3,
   "id": "45244195",
   "metadata": {},
   "outputs": [
    {
     "name": "stdout",
     "output_type": "stream",
     "text": [
      "                                            block_id\n",
      "0  00000000000000000069564d0540f7d160fc7400e03c49...\n",
      "1  000000000000000000022ab0c5740584d31006ddcd1e20...\n",
      "2  000000000000000001628d23a7ba194fe9498676960947...\n",
      "3  00000000000000000025a758640f78eff1fe5bc472ff03...\n",
      "4  0000000000000000004769939c52cfa8e8f1585b580080...\n"
     ]
    },
    {
     "name": "stderr",
     "output_type": "stream",
     "text": [
      "C:\\Users\\smby2\\AppData\\Roaming\\Python\\Python313\\site-packages\\google\\cloud\\bigquery\\table.py:1957: UserWarning: BigQuery Storage module not found, fetch data with the REST endpoint instead.\n",
      "  warnings.warn(\n"
     ]
    }
   ],
   "source": [
    "#Testing my code to see if it is working:\n",
    "query1 = \"\"\"\n",
    "    SELECT block_id\n",
    "    FROM `bigquery-public-data.bitcoin_blockchain.blocks`\n",
    "    LIMIT 5\n",
    "\"\"\"\n",
    "\n",
    "\n",
    "df = client.query(query1).to_dataframe()\n",
    "print(df)"
   ]
  },
  {
   "cell_type": "code",
   "execution_count": 4,
   "id": "956ab7da",
   "metadata": {},
   "outputs": [
    {
     "name": "stdout",
     "output_type": "stream",
     "text": [
      "c:\\Python313\\python.exe\n"
     ]
    }
   ],
   "source": [
    "import sys\n",
    "print(sys.executable)\n"
   ]
  },
  {
   "cell_type": "code",
   "execution_count": 5,
   "id": "306a54ea",
   "metadata": {},
   "outputs": [
    {
     "name": "stdout",
     "output_type": "stream",
     "text": [
      "Index(['block_id'], dtype='object')\n"
     ]
    }
   ],
   "source": [
    "query2 = \"\"\"\n",
    "    SELECT *\n",
    "    FROM `bigquery-public-data.bitcoin_blockchain.blocks`\n",
    "    LIMIT 5\n",
    "\"\"\"\n",
    "print(df.columns)"
   ]
  },
  {
   "cell_type": "code",
   "execution_count": 6,
   "id": "858a2a01",
   "metadata": {},
   "outputs": [
    {
     "name": "stdout",
     "output_type": "stream",
     "text": [
      "Index(['block_id'], dtype='object')\n"
     ]
    }
   ],
   "source": [
    "query3 = \"\"\"\n",
    "    SELECT *\n",
    "    FROM `bigquery-public-data.bitcoin_blockchain.transactions`\n",
    "    LIMIT 5\n",
    "\"\"\"\n",
    "print(df.columns)"
   ]
  },
  {
   "cell_type": "code",
   "execution_count": 7,
   "id": "34e6e417",
   "metadata": {},
   "outputs": [
    {
     "name": "stdout",
     "output_type": "stream",
     "text": [
      "                                          script_asm  block_number value  \\\n",
      "0  OP_RETURN 58325bbc0b0f83bf38d794ddddcd41ac0944...        906690  0E-9   \n",
      "1  OP_RETURN 58325bbc0b0f83bf38d794ddddcd41ac0944...        906690  0E-9   \n",
      "2  OP_RETURN 00034db3c093ea8ba03987aed40813c04acb...        906690  0E-9   \n",
      "3  OP_RETURN 58325bbc0b0f83bf38d794ddddcd41ac0944...        906690  0E-9   \n",
      "4  OP_RETURN 58325bbc0b0f83bf38d794ddddcd41ac0944...        906690  0E-9   \n",
      "\n",
      "                                    transaction_hash  \n",
      "0  eb62fd85aedcd9fec45bad73d048a1e8d0f48ae17ababd...  \n",
      "1  124a375deda998fac0b70c561b83cc629117b96ff46b3f...  \n",
      "2  5161061aa560fb6b9541d97b34c05bf61bb0ff60ab5abb...  \n",
      "3  71587df89da762662f7e44011dbf2c362f600a7c0c896f...  \n",
      "4  9abf76d1f14e37a54a2a462fa332c46f3167ff9aa7c39c...  \n"
     ]
    },
    {
     "name": "stderr",
     "output_type": "stream",
     "text": [
      "C:\\Users\\smby2\\AppData\\Roaming\\Python\\Python313\\site-packages\\google\\cloud\\bigquery\\table.py:1957: UserWarning: BigQuery Storage module not found, fetch data with the REST endpoint instead.\n",
      "  warnings.warn(\n"
     ]
    }
   ],
   "source": [
    "query4 = \"\"\"\n",
    "    SELECT \n",
    "      o.script_asm,\n",
    "      o.block_number,\n",
    "      o.value,\n",
    "      o.transaction_hash\n",
    "    FROM `bigquery-public-data.crypto_bitcoin.outputs` AS o\n",
    "    WHERE o.script_asm LIKE '%OP_RETURN%'\n",
    "    LIMIT 10\n",
    "\"\"\"\n",
    "\n",
    "df = client.query(query4).to_dataframe()\n",
    "print(df.head())\n"
   ]
  },
  {
   "cell_type": "code",
   "execution_count": 8,
   "id": "d2728c31",
   "metadata": {},
   "outputs": [
    {
     "name": "stdout",
     "output_type": "stream",
     "text": [
      "Index(['transaction_hash', 'block_hash', 'block_number', 'block_timestamp',\n",
      "       'index', 'script_asm', 'script_hex', 'required_signatures', 'type',\n",
      "       'addresses', 'value'],\n",
      "      dtype='object')\n"
     ]
    },
    {
     "name": "stderr",
     "output_type": "stream",
     "text": [
      "C:\\Users\\smby2\\AppData\\Roaming\\Python\\Python313\\site-packages\\google\\cloud\\bigquery\\table.py:1957: UserWarning: BigQuery Storage module not found, fetch data with the REST endpoint instead.\n",
      "  warnings.warn(\n"
     ]
    }
   ],
   "source": [
    "query5 = \"\"\"\n",
    "    SELECT *\n",
    "    FROM `bigquery-public-data.crypto_bitcoin.outputs` AS o\n",
    "    WHERE o.script_asm LIKE '%OP_RETURN%'\n",
    "    LIMIT 10\n",
    "\"\"\"\n",
    "\n",
    "df = client.query(query5).to_dataframe()\n",
    "print(df.columns)"
   ]
  },
  {
   "cell_type": "markdown",
   "id": "3f6232dc",
   "metadata": {},
   "source": [
    "Stopped here as of 5/31. when I left off, I was able to see that tables:\n",
    "A. bigquery-public-data.bitcoin_blockchain.blocks table\n",
    "B. bigquery-public-data.bitcoin_blockchain.transactions table\n",
    "C. bigquery-public-data.crypto_bitcoin.outputs table\n",
    "cointained the data I needed to connect block timestamp to messages hidden in OP_RETURN column (in the outputs table) \n",
    "1. blocks → has block_hash and block_timestamp\n",
    "2. transactions → has both transaction_hash and block_hash\n",
    "3. outputs → has transaction_hash\n",
    "\n",
    "\n",
    "\n"
   ]
  },
  {
   "cell_type": "code",
   "execution_count": null,
   "id": "ab4539e1",
   "metadata": {},
   "outputs": [],
   "source": []
  }
 ],
 "metadata": {
  "kernelspec": {
   "display_name": "Python 3",
   "language": "python",
   "name": "python3"
  },
  "language_info": {
   "codemirror_mode": {
    "name": "ipython",
    "version": 3
   },
   "file_extension": ".py",
   "mimetype": "text/x-python",
   "name": "python",
   "nbconvert_exporter": "python",
   "pygments_lexer": "ipython3",
   "version": "3.13.2"
  }
 },
 "nbformat": 4,
 "nbformat_minor": 5
}
