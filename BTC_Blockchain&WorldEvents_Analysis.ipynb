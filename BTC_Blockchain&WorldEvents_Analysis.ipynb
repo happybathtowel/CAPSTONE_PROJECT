{
 "cells": [
  {
   "cell_type": "markdown",
   "id": "3491b341",
   "metadata": {},
   "source": [
    "Activate Python virtual environment first and install all packages before running the notebook.\n",
    "\n",
    "1. create a new virtual environment\n",
    "```\n",
    "python -m venv venv\n",
    "```\n",
    "\n",
    "2. activate the virtual environment\n",
    "```\n",
    "source venv/Scripts/activate\n",
    "```\n",
    "\n",
    "3. install packages\n",
    "```\n",
    "pip install -r requirements.txt\n",
    "```\n",
    "\n",
    "4. make sure your kernel is switched to the venv python kernel\n",
    "\n",
    "\n",
    "\n",
    "\n"
   ]
  },
  {
   "cell_type": "markdown",
   "id": "d0209ea5",
   "metadata": {},
   "source": [
    "Goal: Examine correlations between global,socially significant events and Bitcoin blockchain metrics (block congestion, price movement, metadata notes) over time.\n",
    "Utilizing publick bitcoin blockchain datasets stored in bigquery\n",
    "to begin, I installed the following libraries:\n",
    "pip install google-cloud-bigquery pandas pyarrow\n",
    "\n",
    "Once I started trying to communicate with bigquery database, I had to also install:\n",
    "pip install db-dtypes\n",
    "to help pandas understand how to display data types used in SQL like \"DATE, TIMESTAMP, STRUCT,etc.\n",
    "\n",
    "Tables used:\n",
    " \n",
    "A. bigquery-public-data.crypto_bitcoin.blocks table\n",
    "B. bigquery-public-data.crypto_bitcoin.transactions table\n",
    "\n"
   ]
  },
  {
   "cell_type": "markdown",
   "id": "f18d1379",
   "metadata": {},
   "source": [
    "Note to myself, I need to send a slack message to Eileen with the content of my credentials file and tell her she needs this to run my project."
   ]
  },
  {
   "cell_type": "code",
   "execution_count": 2,
   "id": "08dae270",
   "metadata": {},
   "outputs": [],
   "source": [
    "from google.cloud import bigquery\n",
    "import os\n",
    "#Set the environement variable for key file (telling python where my login key file is)\n",
    "os.environ[\"GOOGLE_APPLICATION_CREDENTIALS\"] = \"Credentials/config.json\"\n",
    "#Start the BigQuery client using my key\n",
    "client = bigquery.Client()\n",
    "\n"
   ]
  },
  {
   "cell_type": "markdown",
   "id": "75908f32",
   "metadata": {},
   "source": []
  },
  {
   "cell_type": "markdown",
   "id": "f5141307",
   "metadata": {},
   "source": [
    "Due to data constraints, I decided to refine my dataset to focus on the 6 months period before/after covid lockdown took place in the US (March 1st 2020~March 30th 2020)\n",
    "Due to issues to the original datasets I was working with (not having data for the date ranges I wanted), I need to change and update the list of tables I'm using\n",
    "\n"
   ]
  },
  {
   "cell_type": "code",
   "execution_count": 3,
   "id": "a611a579",
   "metadata": {},
   "outputs": [
    {
     "name": "stdout",
     "output_type": "stream",
     "text": [
      "<class 'pandas.core.frame.DataFrame'>\n",
      "RangeIndex: 5 entries, 0 to 4\n",
      "Data columns (total 13 columns):\n",
      " #   Column             Non-Null Count  Dtype              \n",
      "---  ------             --------------  -----              \n",
      " 0   hash               5 non-null      object             \n",
      " 1   size               5 non-null      Int64              \n",
      " 2   stripped_size      5 non-null      Int64              \n",
      " 3   weight             5 non-null      Int64              \n",
      " 4   number             5 non-null      Int64              \n",
      " 5   version            5 non-null      Int64              \n",
      " 6   merkle_root        5 non-null      object             \n",
      " 7   timestamp          5 non-null      datetime64[us, UTC]\n",
      " 8   timestamp_month    5 non-null      dbdate             \n",
      " 9   nonce              5 non-null      object             \n",
      " 10  bits               5 non-null      object             \n",
      " 11  coinbase_param     5 non-null      object             \n",
      " 12  transaction_count  5 non-null      Int64              \n",
      "dtypes: Int64(6), datetime64[us, UTC](1), dbdate(1), object(5)\n",
      "memory usage: 682.0+ bytes\n"
     ]
    }
   ],
   "source": [
    "# Checking if the new table \"crypto_bitcoin.blocks\" has information for the timeperiod I'm looking for:\n",
    "query_sample = \"\"\"\n",
    "SELECT *\n",
    "FROM `bigquery-public-data.crypto_bitcoin.blocks`\n",
    "LIMIT 5\n",
    "\"\"\"\n",
    "\n",
    "df_sample = client.query(query_sample).to_dataframe()\n",
    "df_sample.info()\n"
   ]
  },
  {
   "cell_type": "code",
   "execution_count": 4,
   "id": "77d3d209",
   "metadata": {},
   "outputs": [
    {
     "data": {
      "text/html": [
       "<div>\n",
       "<style scoped>\n",
       "    .dataframe tbody tr th:only-of-type {\n",
       "        vertical-align: middle;\n",
       "    }\n",
       "\n",
       "    .dataframe tbody tr th {\n",
       "        vertical-align: top;\n",
       "    }\n",
       "\n",
       "    .dataframe thead th {\n",
       "        text-align: right;\n",
       "    }\n",
       "</style>\n",
       "<table border=\"1\" class=\"dataframe\">\n",
       "  <thead>\n",
       "    <tr style=\"text-align: right;\">\n",
       "      <th></th>\n",
       "      <th>start_date</th>\n",
       "      <th>end_date</th>\n",
       "    </tr>\n",
       "  </thead>\n",
       "  <tbody>\n",
       "    <tr>\n",
       "      <th>0</th>\n",
       "      <td>2009-01-03 18:15:05+00:00</td>\n",
       "      <td>2025-07-30 01:22:59+00:00</td>\n",
       "    </tr>\n",
       "  </tbody>\n",
       "</table>\n",
       "</div>"
      ],
      "text/plain": [
       "                 start_date                  end_date\n",
       "0 2009-01-03 18:15:05+00:00 2025-07-30 01:22:59+00:00"
      ]
     },
     "execution_count": 4,
     "metadata": {},
     "output_type": "execute_result"
    }
   ],
   "source": [
    "# Checking if the new table \"crypto_bitcoin.blocks\" has information for the timeperiod I'm looking for:\n",
    "query_check_range = \"\"\"\n",
    "SELECT\n",
    "  MIN(timestamp) AS start_date,\n",
    "  MAX(timestamp) AS end_date\n",
    "FROM `bigquery-public-data.crypto_bitcoin.blocks`\n",
    "\"\"\"\n",
    "\n",
    "df_range = client.query(query_check_range).to_dataframe()\n",
    "df_range"
   ]
  },
  {
   "cell_type": "markdown",
   "id": "01aaf735",
   "metadata": {},
   "source": [
    "so we made sure the information in the crypto_bitcoin.blocks table has block information starting 2009~2025 July 28th.\n",
    "now checking the type of information obtained on the crypto_bitcoin.transactions table:"
   ]
  },
  {
   "cell_type": "code",
   "execution_count": 5,
   "id": "757112a5",
   "metadata": {},
   "outputs": [
    {
     "name": "stdout",
     "output_type": "stream",
     "text": [
      "<class 'pandas.core.frame.DataFrame'>\n",
      "RangeIndex: 5 entries, 0 to 4\n",
      "Data columns (total 17 columns):\n",
      " #   Column                 Non-Null Count  Dtype              \n",
      "---  ------                 --------------  -----              \n",
      " 0   hash                   5 non-null      object             \n",
      " 1   size                   5 non-null      Int64              \n",
      " 2   virtual_size           5 non-null      Int64              \n",
      " 3   version                5 non-null      Int64              \n",
      " 4   lock_time              5 non-null      Int64              \n",
      " 5   block_hash             5 non-null      object             \n",
      " 6   block_number           5 non-null      Int64              \n",
      " 7   block_timestamp        5 non-null      datetime64[us, UTC]\n",
      " 8   block_timestamp_month  5 non-null      dbdate             \n",
      " 9   input_count            5 non-null      Int64              \n",
      " 10  output_count           5 non-null      Int64              \n",
      " 11  input_value            5 non-null      object             \n",
      " 12  output_value           5 non-null      object             \n",
      " 13  is_coinbase            5 non-null      boolean            \n",
      " 14  fee                    5 non-null      object             \n",
      " 15  inputs                 5 non-null      object             \n",
      " 16  outputs                5 non-null      object             \n",
      "dtypes: Int64(7), boolean(1), datetime64[us, UTC](1), dbdate(1), object(7)\n",
      "memory usage: 817.0+ bytes\n"
     ]
    },
    {
     "data": {
      "text/html": [
       "<div>\n",
       "<style scoped>\n",
       "    .dataframe tbody tr th:only-of-type {\n",
       "        vertical-align: middle;\n",
       "    }\n",
       "\n",
       "    .dataframe tbody tr th {\n",
       "        vertical-align: top;\n",
       "    }\n",
       "\n",
       "    .dataframe thead th {\n",
       "        text-align: right;\n",
       "    }\n",
       "</style>\n",
       "<table border=\"1\" class=\"dataframe\">\n",
       "  <thead>\n",
       "    <tr style=\"text-align: right;\">\n",
       "      <th></th>\n",
       "      <th>hash</th>\n",
       "      <th>size</th>\n",
       "      <th>virtual_size</th>\n",
       "      <th>version</th>\n",
       "      <th>lock_time</th>\n",
       "      <th>block_hash</th>\n",
       "      <th>block_number</th>\n",
       "      <th>block_timestamp</th>\n",
       "      <th>block_timestamp_month</th>\n",
       "      <th>input_count</th>\n",
       "      <th>output_count</th>\n",
       "      <th>input_value</th>\n",
       "      <th>output_value</th>\n",
       "      <th>is_coinbase</th>\n",
       "      <th>fee</th>\n",
       "      <th>inputs</th>\n",
       "      <th>outputs</th>\n",
       "    </tr>\n",
       "  </thead>\n",
       "  <tbody>\n",
       "    <tr>\n",
       "      <th>0</th>\n",
       "      <td>f470e9dd02036be070c68384b2ba47d1bfe873c30a37ac...</td>\n",
       "      <td>223</td>\n",
       "      <td>223</td>\n",
       "      <td>1</td>\n",
       "      <td>0</td>\n",
       "      <td>000000000000000000021e323a7cada08a157493cef87e...</td>\n",
       "      <td>907745</td>\n",
       "      <td>2025-07-30 00:47:05+00:00</td>\n",
       "      <td>2025-07-01</td>\n",
       "      <td>1</td>\n",
       "      <td>2</td>\n",
       "      <td>15814034.000000000</td>\n",
       "      <td>15807254.000000000</td>\n",
       "      <td>False</td>\n",
       "      <td>6780.000000000</td>\n",
       "      <td>[{'index': 0, 'spent_transaction_hash': '5d4f6...</td>\n",
       "      <td>[{'index': 0, 'script_asm': '0 1139d490a1c69df...</td>\n",
       "    </tr>\n",
       "    <tr>\n",
       "      <th>1</th>\n",
       "      <td>03f9d3b4535bba3deefa1faaa4acc8a1005ca5d37186cc...</td>\n",
       "      <td>222</td>\n",
       "      <td>141</td>\n",
       "      <td>1</td>\n",
       "      <td>0</td>\n",
       "      <td>000000000000000000021e323a7cada08a157493cef87e...</td>\n",
       "      <td>907745</td>\n",
       "      <td>2025-07-30 00:47:05+00:00</td>\n",
       "      <td>2025-07-01</td>\n",
       "      <td>1</td>\n",
       "      <td>2</td>\n",
       "      <td>403665.000000000</td>\n",
       "      <td>403101.000000000</td>\n",
       "      <td>False</td>\n",
       "      <td>564.000000000</td>\n",
       "      <td>[{'index': 0, 'spent_transaction_hash': 'afa6b...</td>\n",
       "      <td>[{'index': 0, 'script_asm': '0 026f87eb5ca55a1...</td>\n",
       "    </tr>\n",
       "    <tr>\n",
       "      <th>2</th>\n",
       "      <td>7d205e01ea36c211804d26142558e4aa6d75c37ea6b8bf...</td>\n",
       "      <td>313</td>\n",
       "      <td>212</td>\n",
       "      <td>2</td>\n",
       "      <td>0</td>\n",
       "      <td>000000000000000000021e323a7cada08a157493cef87e...</td>\n",
       "      <td>907745</td>\n",
       "      <td>2025-07-30 00:47:05+00:00</td>\n",
       "      <td>2025-07-01</td>\n",
       "      <td>2</td>\n",
       "      <td>2</td>\n",
       "      <td>465605.000000000</td>\n",
       "      <td>465351.000000000</td>\n",
       "      <td>False</td>\n",
       "      <td>254.000000000</td>\n",
       "      <td>[{'index': 0, 'spent_transaction_hash': '79037...</td>\n",
       "      <td>[{'index': 0, 'script_asm': '1 fe5271d4aa8cef9...</td>\n",
       "    </tr>\n",
       "    <tr>\n",
       "      <th>3</th>\n",
       "      <td>c35a862fb1f4781f90fc63e64e0697371cab65572b91b9...</td>\n",
       "      <td>355</td>\n",
       "      <td>196</td>\n",
       "      <td>2</td>\n",
       "      <td>0</td>\n",
       "      <td>000000000000000000021e323a7cada08a157493cef87e...</td>\n",
       "      <td>907745</td>\n",
       "      <td>2025-07-30 00:47:05+00:00</td>\n",
       "      <td>2025-07-01</td>\n",
       "      <td>1</td>\n",
       "      <td>3</td>\n",
       "      <td>24458.000000000</td>\n",
       "      <td>24335.000000000</td>\n",
       "      <td>False</td>\n",
       "      <td>123.000000000</td>\n",
       "      <td>[{'index': 0, 'spent_transaction_hash': 'a9e5a...</td>\n",
       "      <td>[{'index': 0, 'script_asm': '0 39215284c18e35c...</td>\n",
       "    </tr>\n",
       "    <tr>\n",
       "      <th>4</th>\n",
       "      <td>d80b0dff00193ff28d0dce119be962ebeb0412c2519da5...</td>\n",
       "      <td>355</td>\n",
       "      <td>196</td>\n",
       "      <td>2</td>\n",
       "      <td>0</td>\n",
       "      <td>000000000000000000021e323a7cada08a157493cef87e...</td>\n",
       "      <td>907745</td>\n",
       "      <td>2025-07-30 00:47:05+00:00</td>\n",
       "      <td>2025-07-01</td>\n",
       "      <td>1</td>\n",
       "      <td>3</td>\n",
       "      <td>30681.000000000</td>\n",
       "      <td>30558.000000000</td>\n",
       "      <td>False</td>\n",
       "      <td>123.000000000</td>\n",
       "      <td>[{'index': 0, 'spent_transaction_hash': 'b99de...</td>\n",
       "      <td>[{'index': 0, 'script_asm': '0 39215284c18e35c...</td>\n",
       "    </tr>\n",
       "  </tbody>\n",
       "</table>\n",
       "</div>"
      ],
      "text/plain": [
       "                                                hash  size  virtual_size  \\\n",
       "0  f470e9dd02036be070c68384b2ba47d1bfe873c30a37ac...   223           223   \n",
       "1  03f9d3b4535bba3deefa1faaa4acc8a1005ca5d37186cc...   222           141   \n",
       "2  7d205e01ea36c211804d26142558e4aa6d75c37ea6b8bf...   313           212   \n",
       "3  c35a862fb1f4781f90fc63e64e0697371cab65572b91b9...   355           196   \n",
       "4  d80b0dff00193ff28d0dce119be962ebeb0412c2519da5...   355           196   \n",
       "\n",
       "   version  lock_time                                         block_hash  \\\n",
       "0        1          0  000000000000000000021e323a7cada08a157493cef87e...   \n",
       "1        1          0  000000000000000000021e323a7cada08a157493cef87e...   \n",
       "2        2          0  000000000000000000021e323a7cada08a157493cef87e...   \n",
       "3        2          0  000000000000000000021e323a7cada08a157493cef87e...   \n",
       "4        2          0  000000000000000000021e323a7cada08a157493cef87e...   \n",
       "\n",
       "   block_number           block_timestamp block_timestamp_month  input_count  \\\n",
       "0        907745 2025-07-30 00:47:05+00:00            2025-07-01            1   \n",
       "1        907745 2025-07-30 00:47:05+00:00            2025-07-01            1   \n",
       "2        907745 2025-07-30 00:47:05+00:00            2025-07-01            2   \n",
       "3        907745 2025-07-30 00:47:05+00:00            2025-07-01            1   \n",
       "4        907745 2025-07-30 00:47:05+00:00            2025-07-01            1   \n",
       "\n",
       "   output_count         input_value        output_value  is_coinbase  \\\n",
       "0             2  15814034.000000000  15807254.000000000        False   \n",
       "1             2    403665.000000000    403101.000000000        False   \n",
       "2             2    465605.000000000    465351.000000000        False   \n",
       "3             3     24458.000000000     24335.000000000        False   \n",
       "4             3     30681.000000000     30558.000000000        False   \n",
       "\n",
       "              fee                                             inputs  \\\n",
       "0  6780.000000000  [{'index': 0, 'spent_transaction_hash': '5d4f6...   \n",
       "1   564.000000000  [{'index': 0, 'spent_transaction_hash': 'afa6b...   \n",
       "2   254.000000000  [{'index': 0, 'spent_transaction_hash': '79037...   \n",
       "3   123.000000000  [{'index': 0, 'spent_transaction_hash': 'a9e5a...   \n",
       "4   123.000000000  [{'index': 0, 'spent_transaction_hash': 'b99de...   \n",
       "\n",
       "                                             outputs  \n",
       "0  [{'index': 0, 'script_asm': '0 1139d490a1c69df...  \n",
       "1  [{'index': 0, 'script_asm': '0 026f87eb5ca55a1...  \n",
       "2  [{'index': 0, 'script_asm': '1 fe5271d4aa8cef9...  \n",
       "3  [{'index': 0, 'script_asm': '0 39215284c18e35c...  \n",
       "4  [{'index': 0, 'script_asm': '0 39215284c18e35c...  "
      ]
     },
     "execution_count": 5,
     "metadata": {},
     "output_type": "execute_result"
    }
   ],
   "source": [
    "# checking the type of information obtained on the crypto_bitcoin.transactions table:\n",
    "query_preview_tx = \"\"\"\n",
    "SELECT *\n",
    "FROM `bigquery-public-data.crypto_bitcoin.transactions`\n",
    "LIMIT 5\n",
    "\"\"\"\n",
    "df_tx = client.query(query_preview_tx).to_dataframe()\n",
    "df_tx.info()\n",
    "df_tx.head()"
   ]
  },
  {
   "cell_type": "code",
   "execution_count": 6,
   "id": "4abbe483",
   "metadata": {},
   "outputs": [
    {
     "name": "stdout",
     "output_type": "stream",
     "text": [
      "   transaction_count\n",
      "0           54643498\n"
     ]
    }
   ],
   "source": [
    "# Now checking to make sure there's enough data during Jan-June 2020 in the transactions table:\n",
    "query_row_count = \"\"\"\n",
    "SELECT COUNT(*) as transaction_count\n",
    "FROM `bigquery-public-data.crypto_bitcoin.transactions`\n",
    "WHERE block_timestamp BETWEEN '2020-01-01' AND '2020-06-30'\n",
    "\"\"\"\n",
    "df_row_count = client.query(query_row_count).to_dataframe()\n",
    "print(df_row_count)"
   ]
  },
  {
   "cell_type": "code",
   "execution_count": 7,
   "id": "7857c407",
   "metadata": {},
   "outputs": [
    {
     "data": {
      "text/html": [
       "<div>\n",
       "<style scoped>\n",
       "    .dataframe tbody tr th:only-of-type {\n",
       "        vertical-align: middle;\n",
       "    }\n",
       "\n",
       "    .dataframe tbody tr th {\n",
       "        vertical-align: top;\n",
       "    }\n",
       "\n",
       "    .dataframe thead th {\n",
       "        text-align: right;\n",
       "    }\n",
       "</style>\n",
       "<table border=\"1\" class=\"dataframe\">\n",
       "  <thead>\n",
       "    <tr style=\"text-align: right;\">\n",
       "      <th></th>\n",
       "      <th>transaction_id</th>\n",
       "      <th>block_number</th>\n",
       "      <th>block_hash</th>\n",
       "      <th>block_time</th>\n",
       "      <th>fee</th>\n",
       "      <th>input_value</th>\n",
       "      <th>output_value</th>\n",
       "    </tr>\n",
       "  </thead>\n",
       "  <tbody>\n",
       "    <tr>\n",
       "      <th>0</th>\n",
       "      <td>e26b5b8a792a9d1fcdf44d7501153b3bea3f4e1479388c...</td>\n",
       "      <td>616863</td>\n",
       "      <td>00000000000000000000c6aabdf67a4ceb247bf103f37e...</td>\n",
       "      <td>2020-02-11 02:25:44+00:00</td>\n",
       "      <td>121000.000000000</td>\n",
       "      <td>16824785.000000000</td>\n",
       "      <td>16703785.000000000</td>\n",
       "    </tr>\n",
       "    <tr>\n",
       "      <th>1</th>\n",
       "      <td>f3e20db695d6bdfc2f61f2caa436d63acdbf18bc3d12bf...</td>\n",
       "      <td>619287</td>\n",
       "      <td>00000000000000000006b0bf44a5f27600c448437200c8...</td>\n",
       "      <td>2020-02-28 00:34:51+00:00</td>\n",
       "      <td>31200.000000000</td>\n",
       "      <td>130000.000000000</td>\n",
       "      <td>98800.000000000</td>\n",
       "    </tr>\n",
       "    <tr>\n",
       "      <th>2</th>\n",
       "      <td>16834157e81885ff86478c070e5ef14aca88d40a201b74...</td>\n",
       "      <td>617057</td>\n",
       "      <td>0000000000000000000e6ca0cf6564cbb407733db13fa7...</td>\n",
       "      <td>2020-02-12 10:25:55+00:00</td>\n",
       "      <td>31200.000000000</td>\n",
       "      <td>130000.000000000</td>\n",
       "      <td>98800.000000000</td>\n",
       "    </tr>\n",
       "    <tr>\n",
       "      <th>3</th>\n",
       "      <td>a7f2d7fb2b0b747dc4081df3b4ddfdddeadb85cfb8c963...</td>\n",
       "      <td>618956</td>\n",
       "      <td>0000000000000000000f71d13d2947fcdf80f5c6089922...</td>\n",
       "      <td>2020-02-25 17:06:35+00:00</td>\n",
       "      <td>31200.000000000</td>\n",
       "      <td>130000.000000000</td>\n",
       "      <td>98800.000000000</td>\n",
       "    </tr>\n",
       "    <tr>\n",
       "      <th>4</th>\n",
       "      <td>5e272a95c2cc52ba6d9c45b84db1befe10d3a79ac18a89...</td>\n",
       "      <td>616183</td>\n",
       "      <td>000000000000000000099232a8e5315086be3a9a4cd5c2...</td>\n",
       "      <td>2020-02-06 03:03:04+00:00</td>\n",
       "      <td>31200.000000000</td>\n",
       "      <td>130000.000000000</td>\n",
       "      <td>98800.000000000</td>\n",
       "    </tr>\n",
       "  </tbody>\n",
       "</table>\n",
       "</div>"
      ],
      "text/plain": [
       "                                      transaction_id  block_number  \\\n",
       "0  e26b5b8a792a9d1fcdf44d7501153b3bea3f4e1479388c...        616863   \n",
       "1  f3e20db695d6bdfc2f61f2caa436d63acdbf18bc3d12bf...        619287   \n",
       "2  16834157e81885ff86478c070e5ef14aca88d40a201b74...        617057   \n",
       "3  a7f2d7fb2b0b747dc4081df3b4ddfdddeadb85cfb8c963...        618956   \n",
       "4  5e272a95c2cc52ba6d9c45b84db1befe10d3a79ac18a89...        616183   \n",
       "\n",
       "                                          block_hash  \\\n",
       "0  00000000000000000000c6aabdf67a4ceb247bf103f37e...   \n",
       "1  00000000000000000006b0bf44a5f27600c448437200c8...   \n",
       "2  0000000000000000000e6ca0cf6564cbb407733db13fa7...   \n",
       "3  0000000000000000000f71d13d2947fcdf80f5c6089922...   \n",
       "4  000000000000000000099232a8e5315086be3a9a4cd5c2...   \n",
       "\n",
       "                 block_time               fee         input_value  \\\n",
       "0 2020-02-11 02:25:44+00:00  121000.000000000  16824785.000000000   \n",
       "1 2020-02-28 00:34:51+00:00   31200.000000000    130000.000000000   \n",
       "2 2020-02-12 10:25:55+00:00   31200.000000000    130000.000000000   \n",
       "3 2020-02-25 17:06:35+00:00   31200.000000000    130000.000000000   \n",
       "4 2020-02-06 03:03:04+00:00   31200.000000000    130000.000000000   \n",
       "\n",
       "         output_value  \n",
       "0  16703785.000000000  \n",
       "1     98800.000000000  \n",
       "2     98800.000000000  \n",
       "3     98800.000000000  \n",
       "4     98800.000000000  "
      ]
     },
     "execution_count": 7,
     "metadata": {},
     "output_type": "execute_result"
    }
   ],
   "source": [
    "# doing a small check to see if I can join things on the blocks and transactions table:\n",
    "query_join_test = \"\"\"\n",
    "SELECT\n",
    "  t.hash AS transaction_id,\n",
    "  t.block_number,\n",
    "  b.hash AS block_hash,\n",
    "  b.timestamp AS block_time,\n",
    "  t.fee,\n",
    "  t.input_value,\n",
    "  t.output_value\n",
    "FROM\n",
    "  `bigquery-public-data.crypto_bitcoin.transactions` t\n",
    "JOIN\n",
    "  `bigquery-public-data.crypto_bitcoin.blocks` b\n",
    "ON\n",
    "  t.block_number = b.number\n",
    "WHERE\n",
    "  t.block_timestamp BETWEEN '2020-01-01' AND '2020-06-30'\n",
    "LIMIT 10\n",
    "\"\"\"\n",
    "df_join_test = client.query(query_join_test).to_dataframe()\n",
    "df_join_test.head()"
   ]
  },
  {
   "cell_type": "code",
   "execution_count": 8,
   "id": "fa4102b6",
   "metadata": {},
   "outputs": [
    {
     "name": "stdout",
     "output_type": "stream",
     "text": [
      "<class 'pandas.core.frame.DataFrame'>\n",
      "RangeIndex: 26253 entries, 0 to 26252\n",
      "Data columns (total 13 columns):\n",
      " #   Column             Non-Null Count  Dtype              \n",
      "---  ------             --------------  -----              \n",
      " 0   hash               26253 non-null  object             \n",
      " 1   size               26253 non-null  Int64              \n",
      " 2   stripped_size      26253 non-null  Int64              \n",
      " 3   weight             26253 non-null  Int64              \n",
      " 4   number             26253 non-null  Int64              \n",
      " 5   version            26253 non-null  Int64              \n",
      " 6   merkle_root        26253 non-null  object             \n",
      " 7   timestamp          26253 non-null  datetime64[us, UTC]\n",
      " 8   timestamp_month    26253 non-null  dbdate             \n",
      " 9   nonce              26253 non-null  object             \n",
      " 10  bits               26253 non-null  object             \n",
      " 11  coinbase_param     26253 non-null  object             \n",
      " 12  transaction_count  26253 non-null  Int64              \n",
      "dtypes: Int64(6), datetime64[us, UTC](1), dbdate(1), object(5)\n",
      "memory usage: 2.8+ MB\n"
     ]
    }
   ],
   "source": [
    "query_blocks_covid = \"\"\"\n",
    "SELECT *\n",
    "FROM `bigquery-public-data.crypto_bitcoin.blocks`\n",
    "WHERE timestamp BETWEEN '2020-01-01' AND '2020-06-30'\n",
    "\"\"\"\n",
    "df_blocks = client.query(query_blocks_covid).to_dataframe()\n",
    "df_blocks.info()"
   ]
  },
  {
   "cell_type": "markdown",
   "id": "0869c05e",
   "metadata": {},
   "source": [
    "Since I found out the bitcoin transactions table for March of 2020 adds up to 10 Million rows, I decided to extract a sample of 100K rows of data"
   ]
  },
  {
   "cell_type": "code",
   "execution_count": 9,
   "id": "0966d8f5",
   "metadata": {},
   "outputs": [
    {
     "name": "stdout",
     "output_type": "stream",
     "text": [
      "<class 'pandas.core.frame.DataFrame'>\n",
      "RangeIndex: 100000 entries, 0 to 99999\n",
      "Data columns (total 17 columns):\n",
      " #   Column                 Non-Null Count   Dtype              \n",
      "---  ------                 --------------   -----              \n",
      " 0   hash                   100000 non-null  object             \n",
      " 1   size                   100000 non-null  Int64              \n",
      " 2   virtual_size           100000 non-null  Int64              \n",
      " 3   version                100000 non-null  Int64              \n",
      " 4   lock_time              100000 non-null  Int64              \n",
      " 5   block_hash             100000 non-null  object             \n",
      " 6   block_number           100000 non-null  Int64              \n",
      " 7   block_timestamp        100000 non-null  datetime64[us, UTC]\n",
      " 8   block_timestamp_month  100000 non-null  dbdate             \n",
      " 9   input_count            100000 non-null  Int64              \n",
      " 10  output_count           100000 non-null  Int64              \n",
      " 11  input_value            99961 non-null   object             \n",
      " 12  output_value           100000 non-null  object             \n",
      " 13  is_coinbase            100000 non-null  boolean            \n",
      " 14  fee                    100000 non-null  object             \n",
      " 15  inputs                 100000 non-null  object             \n",
      " 16  outputs                100000 non-null  object             \n",
      "dtypes: Int64(7), boolean(1), datetime64[us, UTC](1), dbdate(1), object(7)\n",
      "memory usage: 13.1+ MB\n"
     ]
    }
   ],
   "source": [
    "# Getting a sample (100k rows) of data from the bitcoin transactions table for March 2020:\n",
    "query_transactions_march_2020 = \"\"\"\n",
    "SELECT *\n",
    "FROM `bigquery-public-data.crypto_bitcoin.transactions`\n",
    "WHERE block_timestamp BETWEEN '2020-03-01' AND '2020-03-31 23:59:59'\n",
    "LIMIT 100000\n",
    "\"\"\"\n",
    "df_transactions = client.query(query_transactions_march_2020).to_dataframe()\n",
    "df_transactions.info()"
   ]
  },
  {
   "cell_type": "code",
   "execution_count": 10,
   "id": "759b497a",
   "metadata": {},
   "outputs": [
    {
     "data": {
      "text/plain": [
       "(Timestamp('2020-03-01 00:04:03+0000', tz='UTC'),\n",
       " Timestamp('2020-03-31 23:51:06+0000', tz='UTC'))"
      ]
     },
     "execution_count": 10,
     "metadata": {},
     "output_type": "execute_result"
    }
   ],
   "source": [
    "(df_transactions['block_timestamp'].min(), df_transactions['block_timestamp'].max())"
   ]
  },
  {
   "cell_type": "code",
   "execution_count": 11,
   "id": "a3018a20",
   "metadata": {},
   "outputs": [],
   "source": [
    "# SQLite start\n",
    "import sqlite3\n"
   ]
  },
  {
   "cell_type": "code",
   "execution_count": 12,
   "id": "83e05c18",
   "metadata": {},
   "outputs": [],
   "source": [
    "# Connecting to a new SQLite database to create a file for my dataset\n",
    "connection = sqlite3.connect(\"bitcoin_data.db\")"
   ]
  },
  {
   "cell_type": "code",
   "execution_count": 13,
   "id": "91a056ea",
   "metadata": {},
   "outputs": [
    {
     "data": {
      "text/plain": [
       "26253"
      ]
     },
     "execution_count": 13,
     "metadata": {},
     "output_type": "execute_result"
    }
   ],
   "source": [
    "# Saving the blocks DataFrame into the database as a new table called \"blocks\"\n",
    "table_name = \"blocks\"\n",
    "data = df_blocks\n",
    "# Writing the data in df_blocks to the database\n",
    "data.to_sql(\n",
    "        name = table_name,\n",
    "        con = connection,\n",
    "        if_exists = \"replace\",\n",
    "        index = False\n",
    ")\n"
   ]
  },
  {
   "cell_type": "code",
   "execution_count": 14,
   "id": "45244195",
   "metadata": {},
   "outputs": [
    {
     "name": "stdout",
     "output_type": "stream",
     "text": [
      "                                            block_id\n",
      "0  00000000000000000045fc015fe17335fdedb9ebca4b3d...\n",
      "1  000000000000000000051cb4a6272786418c5357bff9d0...\n",
      "2  000000000000000000d091f9c5d7815e1a685f702b4164...\n",
      "3  000000000000000000235b8a4ec7a7cc12c1c9133f2d34...\n",
      "4  000000000000000000719106d55fea7af59d31cacef736...\n"
     ]
    }
   ],
   "source": [
    "#Testing my code to see if it is working:\n",
    "query1 = \"\"\"\n",
    "    SELECT block_id\n",
    "    FROM `bigquery-public-data.bitcoin_blockchain.blocks`\n",
    "    LIMIT 5\n",
    "\"\"\"\n",
    "\n",
    "\n",
    "df = client.query(query1).to_dataframe()\n",
    "print(df)"
   ]
  },
  {
   "cell_type": "code",
   "execution_count": 15,
   "id": "956ab7da",
   "metadata": {},
   "outputs": [
    {
     "name": "stdout",
     "output_type": "stream",
     "text": [
      "c:\\C drive Code You Projects\\Code You Data Analyst Course Module 3\\Module 3 Capstone Project\\venv\\Scripts\\python.exe\n"
     ]
    }
   ],
   "source": [
    "import sys\n",
    "print(sys.executable)\n"
   ]
  },
  {
   "cell_type": "code",
   "execution_count": 16,
   "id": "306a54ea",
   "metadata": {},
   "outputs": [
    {
     "name": "stdout",
     "output_type": "stream",
     "text": [
      "Index(['block_id'], dtype='object')\n"
     ]
    }
   ],
   "source": [
    "query2 = \"\"\"\n",
    "    SELECT *\n",
    "    FROM `bigquery-public-data.bitcoin_blockchain.blocks`\n",
    "    LIMIT 5\n",
    "\"\"\"\n",
    "print(df.columns)"
   ]
  },
  {
   "cell_type": "code",
   "execution_count": 17,
   "id": "858a2a01",
   "metadata": {},
   "outputs": [
    {
     "name": "stdout",
     "output_type": "stream",
     "text": [
      "Index(['block_id'], dtype='object')\n"
     ]
    }
   ],
   "source": [
    "query3 = \"\"\"\n",
    "    SELECT *\n",
    "    FROM `bigquery-public-data.bitcoin_blockchain.transactions`\n",
    "    LIMIT 5\n",
    "\"\"\"\n",
    "print(df.columns)"
   ]
  },
  {
   "cell_type": "code",
   "execution_count": 18,
   "id": "34e6e417",
   "metadata": {},
   "outputs": [
    {
     "name": "stdout",
     "output_type": "stream",
     "text": [
      "                                          script_asm  block_number value  \\\n",
      "0                               OP_RETURN 13 1310996        907680  0E-9   \n",
      "1                          OP_RETURN 13 140114001602        907680  0E-9   \n",
      "2                               OP_RETURN 13 1310996        907680  0E-9   \n",
      "3  OP_RETURN 3d3a653a3078666266356333363662316231...        907680  0E-9   \n",
      "4                          OP_RETURN 13 140114001602        907680  0E-9   \n",
      "\n",
      "                                    transaction_hash  \n",
      "0  b8befb041f89d368e0ab1cbebaa68cb4780c4a3b33188a...  \n",
      "1  61b6bf4899257f6568b0e36bd8bf292c6a616ff8cf2b7e...  \n",
      "2  779c7d4dbc96b85af72198bcc63e6f927ead3033492fd9...  \n",
      "3  5e67f95bdac37babd635cd29f9c17ce1efca9176bd9903...  \n",
      "4  dd70319da42fdfb9d9b9327e0e299253dee59c92b46416...  \n"
     ]
    }
   ],
   "source": [
    "query4 = \"\"\"\n",
    "    SELECT \n",
    "      o.script_asm,\n",
    "      o.block_number,\n",
    "      o.value,\n",
    "      o.transaction_hash\n",
    "    FROM `bigquery-public-data.crypto_bitcoin.outputs` AS o\n",
    "    WHERE o.script_asm LIKE '%OP_RETURN%'\n",
    "    LIMIT 10\n",
    "\"\"\"\n",
    "\n",
    "df = client.query(query4).to_dataframe()\n",
    "print(df.head())\n"
   ]
  },
  {
   "cell_type": "code",
   "execution_count": 19,
   "id": "d2728c31",
   "metadata": {},
   "outputs": [
    {
     "name": "stdout",
     "output_type": "stream",
     "text": [
      "Index(['transaction_hash', 'block_hash', 'block_number', 'block_timestamp',\n",
      "       'index', 'script_asm', 'script_hex', 'required_signatures', 'type',\n",
      "       'addresses', 'value'],\n",
      "      dtype='object')\n"
     ]
    }
   ],
   "source": [
    "query5 = \"\"\"\n",
    "    SELECT *\n",
    "    FROM `bigquery-public-data.crypto_bitcoin.outputs` AS o\n",
    "    WHERE o.script_asm LIKE '%OP_RETURN%'\n",
    "    LIMIT 10\n",
    "\"\"\"\n",
    "\n",
    "df = client.query(query5).to_dataframe()\n",
    "print(df.columns)"
   ]
  },
  {
   "cell_type": "markdown",
   "id": "3f6232dc",
   "metadata": {},
   "source": [
    "Stopped here as of 5/31. when I left off, I was able to see that tables:\n",
    "A. bigquery-public-data.bitcoin_blockchain.blocks table\n",
    "B. bigquery-public-data.bitcoin_blockchain.transactions table\n",
    "C. bigquery-public-data.crypto_bitcoin.outputs table\n",
    "cointained the data I needed to connect block timestamp to messages hidden in OP_RETURN column (in the outputs table) \n",
    "1. blocks → has block_hash and block_timestamp\n",
    "2. transactions → has both transaction_hash and block_hash\n",
    "3. outputs → has transaction_hash\n",
    "\n",
    "\n",
    "\n"
   ]
  },
  {
   "cell_type": "code",
   "execution_count": null,
   "id": "ab4539e1",
   "metadata": {},
   "outputs": [],
   "source": []
  }
 ],
 "metadata": {
  "kernelspec": {
   "display_name": "venv",
   "language": "python",
   "name": "python3"
  },
  "language_info": {
   "codemirror_mode": {
    "name": "ipython",
    "version": 3
   },
   "file_extension": ".py",
   "mimetype": "text/x-python",
   "name": "python",
   "nbconvert_exporter": "python",
   "pygments_lexer": "ipython3",
   "version": "3.13.2"
  }
 },
 "nbformat": 4,
 "nbformat_minor": 5
}
