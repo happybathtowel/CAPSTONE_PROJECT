{
 "cells": [
  {
   "cell_type": "markdown",
   "id": "d0209ea5",
   "metadata": {},
   "source": [
    "Goal: Examine correlations between global,socially significant events and Bitcoin blockchain metrics (block congestion, price movement, metadata notes) over time.\n",
    "Utilizing publick bitcoin blockchain datasets stored in bigquery\n",
    "to begin, I installed the following libraries:\n",
    "pip install google-cloud-bigquery pandas pyarrow\n",
    "\n",
    "Once I started trying to communicate with bigquery database, I had to also install:\n",
    "pip install db-dtypes\n",
    "to help pandas understand how to display data types used in SQL like \"DATE, TIMESTAMP, STRUCT,etc.\n",
    "\n",
    "Tables used:\n",
    " \n",
    "A. bigquery-public-data.crypto_bitcoin.blocks table\n",
    "B. bigquery-public-data.crypto_bitcoin.transactions table\n",
    "\n"
   ]
  },
  {
   "cell_type": "code",
   "execution_count": 3,
   "id": "b6a8c4bb",
   "metadata": {},
   "outputs": [
    {
     "name": "stdout",
     "output_type": "stream",
     "text": [
      "Defaulting to user installation because normal site-packages is not writeable\n",
      "Requirement already satisfied: db-dtypes==1.4.3 in c:\\users\\smby2\\appdata\\roaming\\python\\python313\\site-packages (from -r requirements.txt (line 1)) (1.4.3)\n",
      "Requirement already satisfied: google-cloud-bigquery==3.34.0 in c:\\users\\smby2\\appdata\\roaming\\python\\python313\\site-packages (from -r requirements.txt (line 2)) (3.34.0)\n",
      "Requirement already satisfied: google-cloud-bigquery-storage==2.32.0 in c:\\users\\smby2\\appdata\\roaming\\python\\python313\\site-packages (from -r requirements.txt (line 3)) (2.32.0)\n",
      "Requirement already satisfied: ipykernel==6.29.5 in c:\\users\\smby2\\appdata\\roaming\\python\\python313\\site-packages (from -r requirements.txt (line 4)) (6.29.5)\n",
      "Requirement already satisfied: ipython==9.0.2 in c:\\users\\smby2\\appdata\\roaming\\python\\python313\\site-packages (from -r requirements.txt (line 5)) (9.0.2)\n",
      "Requirement already satisfied: pandas==2.2.3 in c:\\users\\smby2\\appdata\\roaming\\python\\python313\\site-packages (from -r requirements.txt (line 6)) (2.2.3)\n",
      "Requirement already satisfied: pyarrow==20.0.0 in c:\\users\\smby2\\appdata\\roaming\\python\\python313\\site-packages (from -r requirements.txt (line 7)) (20.0.0)\n",
      "Requirement already satisfied: numpy>=1.24.0 in c:\\users\\smby2\\appdata\\roaming\\python\\python313\\site-packages (from db-dtypes==1.4.3->-r requirements.txt (line 1)) (2.2.4)\n",
      "Requirement already satisfied: packaging>=24.2.0 in c:\\users\\smby2\\appdata\\roaming\\python\\python313\\site-packages (from db-dtypes==1.4.3->-r requirements.txt (line 1)) (24.2)\n",
      "Requirement already satisfied: google-api-core<3.0.0,>=2.11.1 in c:\\users\\smby2\\appdata\\roaming\\python\\python313\\site-packages (from google-api-core[grpc]<3.0.0,>=2.11.1->google-cloud-bigquery==3.34.0->-r requirements.txt (line 2)) (2.24.2)\n",
      "Requirement already satisfied: google-auth<3.0.0,>=2.14.1 in c:\\users\\smby2\\appdata\\roaming\\python\\python313\\site-packages (from google-cloud-bigquery==3.34.0->-r requirements.txt (line 2)) (2.40.2)\n",
      "Requirement already satisfied: google-cloud-core<3.0.0,>=2.4.1 in c:\\users\\smby2\\appdata\\roaming\\python\\python313\\site-packages (from google-cloud-bigquery==3.34.0->-r requirements.txt (line 2)) (2.4.3)\n",
      "Requirement already satisfied: google-resumable-media<3.0.0,>=2.0.0 in c:\\users\\smby2\\appdata\\roaming\\python\\python313\\site-packages (from google-cloud-bigquery==3.34.0->-r requirements.txt (line 2)) (2.7.2)\n",
      "Requirement already satisfied: python-dateutil<3.0.0,>=2.8.2 in c:\\users\\smby2\\appdata\\roaming\\python\\python313\\site-packages (from google-cloud-bigquery==3.34.0->-r requirements.txt (line 2)) (2.9.0.post0)\n",
      "Requirement already satisfied: requests<3.0.0,>=2.21.0 in c:\\users\\smby2\\appdata\\roaming\\python\\python313\\site-packages (from google-cloud-bigquery==3.34.0->-r requirements.txt (line 2)) (2.32.3)\n",
      "Requirement already satisfied: proto-plus<2.0.0,>=1.22.0 in c:\\users\\smby2\\appdata\\roaming\\python\\python313\\site-packages (from google-cloud-bigquery-storage==2.32.0->-r requirements.txt (line 3)) (1.26.1)\n",
      "Requirement already satisfied: protobuf!=3.20.0,!=3.20.1,!=4.21.0,!=4.21.1,!=4.21.2,!=4.21.3,!=4.21.4,!=4.21.5,<7.0.0,>=3.20.2 in c:\\users\\smby2\\appdata\\roaming\\python\\python313\\site-packages (from google-cloud-bigquery-storage==2.32.0->-r requirements.txt (line 3)) (6.31.1)\n",
      "Requirement already satisfied: comm>=0.1.1 in c:\\users\\smby2\\appdata\\roaming\\python\\python313\\site-packages (from ipykernel==6.29.5->-r requirements.txt (line 4)) (0.2.2)\n",
      "Requirement already satisfied: debugpy>=1.6.5 in c:\\users\\smby2\\appdata\\roaming\\python\\python313\\site-packages (from ipykernel==6.29.5->-r requirements.txt (line 4)) (1.8.13)\n",
      "Requirement already satisfied: jupyter-client>=6.1.12 in c:\\users\\smby2\\appdata\\roaming\\python\\python313\\site-packages (from ipykernel==6.29.5->-r requirements.txt (line 4)) (8.6.3)\n",
      "Requirement already satisfied: jupyter-core!=5.0.*,>=4.12 in c:\\users\\smby2\\appdata\\roaming\\python\\python313\\site-packages (from ipykernel==6.29.5->-r requirements.txt (line 4)) (5.7.2)\n",
      "Requirement already satisfied: matplotlib-inline>=0.1 in c:\\users\\smby2\\appdata\\roaming\\python\\python313\\site-packages (from ipykernel==6.29.5->-r requirements.txt (line 4)) (0.1.7)\n",
      "Requirement already satisfied: nest-asyncio in c:\\users\\smby2\\appdata\\roaming\\python\\python313\\site-packages (from ipykernel==6.29.5->-r requirements.txt (line 4)) (1.6.0)\n",
      "Requirement already satisfied: psutil in c:\\users\\smby2\\appdata\\roaming\\python\\python313\\site-packages (from ipykernel==6.29.5->-r requirements.txt (line 4)) (7.0.0)\n",
      "Requirement already satisfied: pyzmq>=24 in c:\\users\\smby2\\appdata\\roaming\\python\\python313\\site-packages (from ipykernel==6.29.5->-r requirements.txt (line 4)) (26.3.0)\n",
      "Requirement already satisfied: tornado>=6.1 in c:\\users\\smby2\\appdata\\roaming\\python\\python313\\site-packages (from ipykernel==6.29.5->-r requirements.txt (line 4)) (6.4.2)\n",
      "Requirement already satisfied: traitlets>=5.4.0 in c:\\users\\smby2\\appdata\\roaming\\python\\python313\\site-packages (from ipykernel==6.29.5->-r requirements.txt (line 4)) (5.14.3)\n",
      "Requirement already satisfied: colorama in c:\\users\\smby2\\appdata\\roaming\\python\\python313\\site-packages (from ipython==9.0.2->-r requirements.txt (line 5)) (0.4.6)\n",
      "Requirement already satisfied: decorator in c:\\users\\smby2\\appdata\\roaming\\python\\python313\\site-packages (from ipython==9.0.2->-r requirements.txt (line 5)) (5.2.1)\n",
      "Requirement already satisfied: ipython-pygments-lexers in c:\\users\\smby2\\appdata\\roaming\\python\\python313\\site-packages (from ipython==9.0.2->-r requirements.txt (line 5)) (1.1.1)\n",
      "Requirement already satisfied: jedi>=0.16 in c:\\users\\smby2\\appdata\\roaming\\python\\python313\\site-packages (from ipython==9.0.2->-r requirements.txt (line 5)) (0.19.2)\n",
      "Requirement already satisfied: prompt_toolkit<3.1.0,>=3.0.41 in c:\\users\\smby2\\appdata\\roaming\\python\\python313\\site-packages (from ipython==9.0.2->-r requirements.txt (line 5)) (3.0.50)\n",
      "Requirement already satisfied: pygments>=2.4.0 in c:\\users\\smby2\\appdata\\roaming\\python\\python313\\site-packages (from ipython==9.0.2->-r requirements.txt (line 5)) (2.19.1)\n",
      "Requirement already satisfied: stack_data in c:\\users\\smby2\\appdata\\roaming\\python\\python313\\site-packages (from ipython==9.0.2->-r requirements.txt (line 5)) (0.6.3)\n",
      "Requirement already satisfied: pytz>=2020.1 in c:\\users\\smby2\\appdata\\roaming\\python\\python313\\site-packages (from pandas==2.2.3->-r requirements.txt (line 6)) (2025.2)\n",
      "Requirement already satisfied: tzdata>=2022.7 in c:\\users\\smby2\\appdata\\roaming\\python\\python313\\site-packages (from pandas==2.2.3->-r requirements.txt (line 6)) (2025.2)\n",
      "Requirement already satisfied: googleapis-common-protos<2.0.0,>=1.56.2 in c:\\users\\smby2\\appdata\\roaming\\python\\python313\\site-packages (from google-api-core<3.0.0,>=2.11.1->google-api-core[grpc]<3.0.0,>=2.11.1->google-cloud-bigquery==3.34.0->-r requirements.txt (line 2)) (1.70.0)\n",
      "Requirement already satisfied: grpcio<2.0dev,>=1.33.2 in c:\\users\\smby2\\appdata\\roaming\\python\\python313\\site-packages (from google-api-core[grpc]<3.0.0,>=2.11.1->google-cloud-bigquery==3.34.0->-r requirements.txt (line 2)) (1.73.0rc1)\n",
      "Requirement already satisfied: grpcio-status<2.0.dev0,>=1.33.2 in c:\\users\\smby2\\appdata\\roaming\\python\\python313\\site-packages (from google-api-core[grpc]<3.0.0,>=2.11.1->google-cloud-bigquery==3.34.0->-r requirements.txt (line 2)) (1.73.0rc1)\n",
      "Requirement already satisfied: cachetools<6.0,>=2.0.0 in c:\\users\\smby2\\appdata\\roaming\\python\\python313\\site-packages (from google-auth<3.0.0,>=2.14.1->google-cloud-bigquery==3.34.0->-r requirements.txt (line 2)) (5.5.2)\n",
      "Requirement already satisfied: pyasn1-modules>=0.2.1 in c:\\users\\smby2\\appdata\\roaming\\python\\python313\\site-packages (from google-auth<3.0.0,>=2.14.1->google-cloud-bigquery==3.34.0->-r requirements.txt (line 2)) (0.4.2)\n",
      "Requirement already satisfied: rsa<5,>=3.1.4 in c:\\users\\smby2\\appdata\\roaming\\python\\python313\\site-packages (from google-auth<3.0.0,>=2.14.1->google-cloud-bigquery==3.34.0->-r requirements.txt (line 2)) (4.9.1)\n",
      "Requirement already satisfied: google-crc32c<2.0dev,>=1.0 in c:\\users\\smby2\\appdata\\roaming\\python\\python313\\site-packages (from google-resumable-media<3.0.0,>=2.0.0->google-cloud-bigquery==3.34.0->-r requirements.txt (line 2)) (1.7.1)\n",
      "Requirement already satisfied: wcwidth in c:\\users\\smby2\\appdata\\roaming\\python\\python313\\site-packages (from prompt_toolkit<3.1.0,>=3.0.41->ipython==9.0.2->-r requirements.txt (line 5)) (0.2.13)\n",
      "Requirement already satisfied: six>=1.5 in c:\\users\\smby2\\appdata\\roaming\\python\\python313\\site-packages (from python-dateutil<3.0.0,>=2.8.2->google-cloud-bigquery==3.34.0->-r requirements.txt (line 2)) (1.17.0)\n",
      "Requirement already satisfied: charset-normalizer<4,>=2 in c:\\users\\smby2\\appdata\\roaming\\python\\python313\\site-packages (from requests<3.0.0,>=2.21.0->google-cloud-bigquery==3.34.0->-r requirements.txt (line 2)) (3.4.2)\n",
      "Requirement already satisfied: idna<4,>=2.5 in c:\\users\\smby2\\appdata\\roaming\\python\\python313\\site-packages (from requests<3.0.0,>=2.21.0->google-cloud-bigquery==3.34.0->-r requirements.txt (line 2)) (3.10)\n",
      "Requirement already satisfied: urllib3<3,>=1.21.1 in c:\\users\\smby2\\appdata\\roaming\\python\\python313\\site-packages (from requests<3.0.0,>=2.21.0->google-cloud-bigquery==3.34.0->-r requirements.txt (line 2)) (2.4.0)\n",
      "Requirement already satisfied: certifi>=2017.4.17 in c:\\users\\smby2\\appdata\\roaming\\python\\python313\\site-packages (from requests<3.0.0,>=2.21.0->google-cloud-bigquery==3.34.0->-r requirements.txt (line 2)) (2025.4.26)\n",
      "Requirement already satisfied: pyasn1>=0.1.3 in c:\\users\\smby2\\appdata\\roaming\\python\\python313\\site-packages (from rsa<5,>=3.1.4->google-auth<3.0.0,>=2.14.1->google-cloud-bigquery==3.34.0->-r requirements.txt (line 2)) (0.6.1)\n",
      "Requirement already satisfied: parso<0.9.0,>=0.8.4 in c:\\users\\smby2\\appdata\\roaming\\python\\python313\\site-packages (from jedi>=0.16->ipython==9.0.2->-r requirements.txt (line 5)) (0.8.4)\n",
      "Requirement already satisfied: platformdirs>=2.5 in c:\\users\\smby2\\appdata\\roaming\\python\\python313\\site-packages (from jupyter-core!=5.0.*,>=4.12->ipykernel==6.29.5->-r requirements.txt (line 4)) (4.3.6)\n",
      "Requirement already satisfied: pywin32>=300 in c:\\users\\smby2\\appdata\\roaming\\python\\python313\\site-packages (from jupyter-core!=5.0.*,>=4.12->ipykernel==6.29.5->-r requirements.txt (line 4)) (309)\n",
      "Requirement already satisfied: executing>=1.2.0 in c:\\users\\smby2\\appdata\\roaming\\python\\python313\\site-packages (from stack_data->ipython==9.0.2->-r requirements.txt (line 5)) (2.2.0)\n",
      "Requirement already satisfied: asttokens>=2.1.0 in c:\\users\\smby2\\appdata\\roaming\\python\\python313\\site-packages (from stack_data->ipython==9.0.2->-r requirements.txt (line 5)) (3.0.0)\n",
      "Requirement already satisfied: pure-eval in c:\\users\\smby2\\appdata\\roaming\\python\\python313\\site-packages (from stack_data->ipython==9.0.2->-r requirements.txt (line 5)) (0.2.3)\n",
      "Note: you may need to restart the kernel to use updated packages.\n"
     ]
    }
   ],
   "source": [
    "%pip install -r requirements.txt\n"
   ]
  },
  {
   "cell_type": "code",
   "execution_count": 4,
   "id": "08dae270",
   "metadata": {},
   "outputs": [],
   "source": [
    "from google.cloud import bigquery\n",
    "import os\n",
    "#Set the environement variable for key file (telling python where my login key file is)\n",
    "os.environ[\"GOOGLE_APPLICATION_CREDENTIALS\"] = \"Credentials/capstone-project-461516-4b2a88c5f4cd.json\"\n",
    "#Start the BigQuery client using my key\n",
    "client = bigquery.Client()\n",
    "\n"
   ]
  },
  {
   "cell_type": "markdown",
   "id": "f5141307",
   "metadata": {},
   "source": [
    "Due to data constraints, I decided to refine my dataset to focus on the 6 months period before/after covid lockdown took place in the US (Jan 1st 2020~June 30th 2020)\n",
    "Due to issues to the original datasets I was working with (not having data for the date ranges I wanted), I need to change and update the list of tables I'm using\n",
    "\n"
   ]
  },
  {
   "cell_type": "code",
   "execution_count": null,
   "id": "a611a579",
   "metadata": {},
   "outputs": [
    {
     "name": "stdout",
     "output_type": "stream",
     "text": [
      "<class 'pandas.core.frame.DataFrame'>\n",
      "RangeIndex: 5 entries, 0 to 4\n",
      "Data columns (total 13 columns):\n",
      " #   Column             Non-Null Count  Dtype              \n",
      "---  ------             --------------  -----              \n",
      " 0   hash               5 non-null      object             \n",
      " 1   size               5 non-null      Int64              \n",
      " 2   stripped_size      5 non-null      Int64              \n",
      " 3   weight             5 non-null      Int64              \n",
      " 4   number             5 non-null      Int64              \n",
      " 5   version            5 non-null      Int64              \n",
      " 6   merkle_root        5 non-null      object             \n",
      " 7   timestamp          5 non-null      datetime64[us, UTC]\n",
      " 8   timestamp_month    5 non-null      dbdate             \n",
      " 9   nonce              5 non-null      object             \n",
      " 10  bits               5 non-null      object             \n",
      " 11  coinbase_param     5 non-null      object             \n",
      " 12  transaction_count  5 non-null      Int64              \n",
      "dtypes: Int64(6), datetime64[us, UTC](1), dbdate(1), object(5)\n",
      "memory usage: 682.0+ bytes\n"
     ]
    }
   ],
   "source": [
    "# Checking if the new table \"crypto_bitcoin.blocks\" has information for the timeperiod I'm looking for:\n",
    "query_sample = \"\"\"\n",
    "SELECT *\n",
    "FROM `bigquery-public-data.crypto_bitcoin.blocks`\n",
    "LIMIT 5\n",
    "\"\"\"\n",
    "\n",
    "df_sample = client.query(query_sample).to_dataframe()\n",
    "df_sample.info()\n"
   ]
  },
  {
   "cell_type": "code",
   "execution_count": 7,
   "id": "77d3d209",
   "metadata": {},
   "outputs": [
    {
     "data": {
      "text/html": [
       "<div>\n",
       "<style scoped>\n",
       "    .dataframe tbody tr th:only-of-type {\n",
       "        vertical-align: middle;\n",
       "    }\n",
       "\n",
       "    .dataframe tbody tr th {\n",
       "        vertical-align: top;\n",
       "    }\n",
       "\n",
       "    .dataframe thead th {\n",
       "        text-align: right;\n",
       "    }\n",
       "</style>\n",
       "<table border=\"1\" class=\"dataframe\">\n",
       "  <thead>\n",
       "    <tr style=\"text-align: right;\">\n",
       "      <th></th>\n",
       "      <th>start_date</th>\n",
       "      <th>end_date</th>\n",
       "    </tr>\n",
       "  </thead>\n",
       "  <tbody>\n",
       "    <tr>\n",
       "      <th>0</th>\n",
       "      <td>2009-01-03 18:15:05+00:00</td>\n",
       "      <td>2025-07-28 22:58:15+00:00</td>\n",
       "    </tr>\n",
       "  </tbody>\n",
       "</table>\n",
       "</div>"
      ],
      "text/plain": [
       "                 start_date                  end_date\n",
       "0 2009-01-03 18:15:05+00:00 2025-07-28 22:58:15+00:00"
      ]
     },
     "execution_count": 7,
     "metadata": {},
     "output_type": "execute_result"
    }
   ],
   "source": [
    "# Checking if the new table \"crypto_bitcoin.blocks\" has information for the timeperiod I'm looking for:\n",
    "query_check_range = \"\"\"\n",
    "SELECT\n",
    "  MIN(timestamp) AS start_date,\n",
    "  MAX(timestamp) AS end_date\n",
    "FROM `bigquery-public-data.crypto_bitcoin.blocks`\n",
    "\"\"\"\n",
    "\n",
    "df_range = client.query(query_check_range).to_dataframe()\n",
    "df_range"
   ]
  },
  {
   "cell_type": "markdown",
   "id": "01aaf735",
   "metadata": {},
   "source": [
    "so we made sure the information in the crypto_bitcoin.blocks table has block information starting 2009~2025 July 28th.\n",
    "now checking the type of information obtained on the crypto_bitcoin.transactions table:"
   ]
  },
  {
   "cell_type": "code",
   "execution_count": null,
   "id": "757112a5",
   "metadata": {},
   "outputs": [
    {
     "name": "stdout",
     "output_type": "stream",
     "text": [
      "<class 'pandas.core.frame.DataFrame'>\n",
      "RangeIndex: 5 entries, 0 to 4\n",
      "Data columns (total 17 columns):\n",
      " #   Column                 Non-Null Count  Dtype              \n",
      "---  ------                 --------------  -----              \n",
      " 0   hash                   5 non-null      object             \n",
      " 1   size                   5 non-null      Int64              \n",
      " 2   virtual_size           5 non-null      Int64              \n",
      " 3   version                5 non-null      Int64              \n",
      " 4   lock_time              5 non-null      Int64              \n",
      " 5   block_hash             5 non-null      object             \n",
      " 6   block_number           5 non-null      Int64              \n",
      " 7   block_timestamp        5 non-null      datetime64[us, UTC]\n",
      " 8   block_timestamp_month  5 non-null      dbdate             \n",
      " 9   input_count            5 non-null      Int64              \n",
      " 10  output_count           5 non-null      Int64              \n",
      " 11  input_value            5 non-null      object             \n",
      " 12  output_value           5 non-null      object             \n",
      " 13  is_coinbase            5 non-null      boolean            \n",
      " 14  fee                    5 non-null      object             \n",
      " 15  inputs                 5 non-null      object             \n",
      " 16  outputs                5 non-null      object             \n",
      "dtypes: Int64(7), boolean(1), datetime64[us, UTC](1), dbdate(1), object(7)\n",
      "memory usage: 817.0+ bytes\n"
     ]
    },
    {
     "data": {
      "text/html": [
       "<div>\n",
       "<style scoped>\n",
       "    .dataframe tbody tr th:only-of-type {\n",
       "        vertical-align: middle;\n",
       "    }\n",
       "\n",
       "    .dataframe tbody tr th {\n",
       "        vertical-align: top;\n",
       "    }\n",
       "\n",
       "    .dataframe thead th {\n",
       "        text-align: right;\n",
       "    }\n",
       "</style>\n",
       "<table border=\"1\" class=\"dataframe\">\n",
       "  <thead>\n",
       "    <tr style=\"text-align: right;\">\n",
       "      <th></th>\n",
       "      <th>hash</th>\n",
       "      <th>size</th>\n",
       "      <th>virtual_size</th>\n",
       "      <th>version</th>\n",
       "      <th>lock_time</th>\n",
       "      <th>block_hash</th>\n",
       "      <th>block_number</th>\n",
       "      <th>block_timestamp</th>\n",
       "      <th>block_timestamp_month</th>\n",
       "      <th>input_count</th>\n",
       "      <th>output_count</th>\n",
       "      <th>input_value</th>\n",
       "      <th>output_value</th>\n",
       "      <th>is_coinbase</th>\n",
       "      <th>fee</th>\n",
       "      <th>inputs</th>\n",
       "      <th>outputs</th>\n",
       "    </tr>\n",
       "  </thead>\n",
       "  <tbody>\n",
       "    <tr>\n",
       "      <th>0</th>\n",
       "      <td>efb7e4929cd066cd6d8ffa7f16d8efb1e1fc6fc04c2eee...</td>\n",
       "      <td>342</td>\n",
       "      <td>180</td>\n",
       "      <td>2</td>\n",
       "      <td>907621</td>\n",
       "      <td>00000000000000000001d5629d2923c7e89c1bcb621ea1...</td>\n",
       "      <td>907623</td>\n",
       "      <td>2025-07-28 22:58:15+00:00</td>\n",
       "      <td>2025-07-01</td>\n",
       "      <td>2</td>\n",
       "      <td>1</td>\n",
       "      <td>10104420.000000000</td>\n",
       "      <td>10101847.000000000</td>\n",
       "      <td>False</td>\n",
       "      <td>2573.000000000</td>\n",
       "      <td>[{'index': 0, 'spent_transaction_hash': '6bc90...</td>\n",
       "      <td>[{'index': 0, 'script_asm': 'OP_DUP OP_HASH160...</td>\n",
       "    </tr>\n",
       "    <tr>\n",
       "      <th>1</th>\n",
       "      <td>a89d90afff1f6e572505b95bc1d34d6f910d9c9b7cd655...</td>\n",
       "      <td>223</td>\n",
       "      <td>142</td>\n",
       "      <td>2</td>\n",
       "      <td>0</td>\n",
       "      <td>00000000000000000001d5629d2923c7e89c1bcb621ea1...</td>\n",
       "      <td>907623</td>\n",
       "      <td>2025-07-28 22:58:15+00:00</td>\n",
       "      <td>2025-07-01</td>\n",
       "      <td>1</td>\n",
       "      <td>2</td>\n",
       "      <td>12829.000000000</td>\n",
       "      <td>11125.000000000</td>\n",
       "      <td>False</td>\n",
       "      <td>1704.000000000</td>\n",
       "      <td>[{'index': 0, 'spent_transaction_hash': '72f6a...</td>\n",
       "      <td>[{'index': 0, 'script_asm': 'OP_HASH160 331cb0...</td>\n",
       "    </tr>\n",
       "    <tr>\n",
       "      <th>2</th>\n",
       "      <td>a6c7489e3c170a8f09d6e80c8b24adc75a820c483d1216...</td>\n",
       "      <td>240</td>\n",
       "      <td>155</td>\n",
       "      <td>1</td>\n",
       "      <td>0</td>\n",
       "      <td>00000000000000000001d5629d2923c7e89c1bcb621ea1...</td>\n",
       "      <td>907623</td>\n",
       "      <td>2025-07-28 22:58:15+00:00</td>\n",
       "      <td>2025-07-01</td>\n",
       "      <td>1</td>\n",
       "      <td>2</td>\n",
       "      <td>1047486.000000000</td>\n",
       "      <td>1041364.000000000</td>\n",
       "      <td>False</td>\n",
       "      <td>6122.000000000</td>\n",
       "      <td>[{'index': 0, 'spent_transaction_hash': '8be9e...</td>\n",
       "      <td>[{'index': 0, 'script_asm': 'OP_HASH160 9e8ce6...</td>\n",
       "    </tr>\n",
       "    <tr>\n",
       "      <th>3</th>\n",
       "      <td>59daef27c47858af00aaa78ea18caf784aab1bf4c85053...</td>\n",
       "      <td>223</td>\n",
       "      <td>142</td>\n",
       "      <td>2</td>\n",
       "      <td>0</td>\n",
       "      <td>00000000000000000001d5629d2923c7e89c1bcb621ea1...</td>\n",
       "      <td>907623</td>\n",
       "      <td>2025-07-28 22:58:15+00:00</td>\n",
       "      <td>2025-07-01</td>\n",
       "      <td>1</td>\n",
       "      <td>2</td>\n",
       "      <td>3767744.000000000</td>\n",
       "      <td>3765697.000000000</td>\n",
       "      <td>False</td>\n",
       "      <td>2047.000000000</td>\n",
       "      <td>[{'index': 0, 'spent_transaction_hash': '957fa...</td>\n",
       "      <td>[{'index': 0, 'script_asm': '0 3f09c0894e5e006...</td>\n",
       "    </tr>\n",
       "    <tr>\n",
       "      <th>4</th>\n",
       "      <td>4bd7506a444409e7024de279d3bb129d3398ac295c0344...</td>\n",
       "      <td>222</td>\n",
       "      <td>141</td>\n",
       "      <td>2</td>\n",
       "      <td>0</td>\n",
       "      <td>00000000000000000001d5629d2923c7e89c1bcb621ea1...</td>\n",
       "      <td>907623</td>\n",
       "      <td>2025-07-28 22:58:15+00:00</td>\n",
       "      <td>2025-07-01</td>\n",
       "      <td>1</td>\n",
       "      <td>2</td>\n",
       "      <td>109270302.000000000</td>\n",
       "      <td>109268163.000000000</td>\n",
       "      <td>False</td>\n",
       "      <td>2139.000000000</td>\n",
       "      <td>[{'index': 0, 'spent_transaction_hash': '5f5a9...</td>\n",
       "      <td>[{'index': 0, 'script_asm': '0 705fde574d14136...</td>\n",
       "    </tr>\n",
       "  </tbody>\n",
       "</table>\n",
       "</div>"
      ],
      "text/plain": [
       "                                                hash  size  virtual_size  \\\n",
       "0  efb7e4929cd066cd6d8ffa7f16d8efb1e1fc6fc04c2eee...   342           180   \n",
       "1  a89d90afff1f6e572505b95bc1d34d6f910d9c9b7cd655...   223           142   \n",
       "2  a6c7489e3c170a8f09d6e80c8b24adc75a820c483d1216...   240           155   \n",
       "3  59daef27c47858af00aaa78ea18caf784aab1bf4c85053...   223           142   \n",
       "4  4bd7506a444409e7024de279d3bb129d3398ac295c0344...   222           141   \n",
       "\n",
       "   version  lock_time                                         block_hash  \\\n",
       "0        2     907621  00000000000000000001d5629d2923c7e89c1bcb621ea1...   \n",
       "1        2          0  00000000000000000001d5629d2923c7e89c1bcb621ea1...   \n",
       "2        1          0  00000000000000000001d5629d2923c7e89c1bcb621ea1...   \n",
       "3        2          0  00000000000000000001d5629d2923c7e89c1bcb621ea1...   \n",
       "4        2          0  00000000000000000001d5629d2923c7e89c1bcb621ea1...   \n",
       "\n",
       "   block_number           block_timestamp block_timestamp_month  input_count  \\\n",
       "0        907623 2025-07-28 22:58:15+00:00            2025-07-01            2   \n",
       "1        907623 2025-07-28 22:58:15+00:00            2025-07-01            1   \n",
       "2        907623 2025-07-28 22:58:15+00:00            2025-07-01            1   \n",
       "3        907623 2025-07-28 22:58:15+00:00            2025-07-01            1   \n",
       "4        907623 2025-07-28 22:58:15+00:00            2025-07-01            1   \n",
       "\n",
       "   output_count          input_value         output_value  is_coinbase  \\\n",
       "0             1   10104420.000000000   10101847.000000000        False   \n",
       "1             2      12829.000000000      11125.000000000        False   \n",
       "2             2    1047486.000000000    1041364.000000000        False   \n",
       "3             2    3767744.000000000    3765697.000000000        False   \n",
       "4             2  109270302.000000000  109268163.000000000        False   \n",
       "\n",
       "              fee                                             inputs  \\\n",
       "0  2573.000000000  [{'index': 0, 'spent_transaction_hash': '6bc90...   \n",
       "1  1704.000000000  [{'index': 0, 'spent_transaction_hash': '72f6a...   \n",
       "2  6122.000000000  [{'index': 0, 'spent_transaction_hash': '8be9e...   \n",
       "3  2047.000000000  [{'index': 0, 'spent_transaction_hash': '957fa...   \n",
       "4  2139.000000000  [{'index': 0, 'spent_transaction_hash': '5f5a9...   \n",
       "\n",
       "                                             outputs  \n",
       "0  [{'index': 0, 'script_asm': 'OP_DUP OP_HASH160...  \n",
       "1  [{'index': 0, 'script_asm': 'OP_HASH160 331cb0...  \n",
       "2  [{'index': 0, 'script_asm': 'OP_HASH160 9e8ce6...  \n",
       "3  [{'index': 0, 'script_asm': '0 3f09c0894e5e006...  \n",
       "4  [{'index': 0, 'script_asm': '0 705fde574d14136...  "
      ]
     },
     "execution_count": 8,
     "metadata": {},
     "output_type": "execute_result"
    }
   ],
   "source": [
    "# checking the type of information obtained on the crypto_bitcoin.transactions table:\n",
    "query_preview_tx = \"\"\"\n",
    "SELECT *\n",
    "FROM `bigquery-public-data.crypto_bitcoin.transactions`\n",
    "LIMIT 5\n",
    "\"\"\"\n",
    "df_tx = client.query(query_preview_tx).to_dataframe()\n",
    "df_tx.info()\n",
    "df_tx.head()"
   ]
  },
  {
   "cell_type": "code",
   "execution_count": 9,
   "id": "4abbe483",
   "metadata": {},
   "outputs": [
    {
     "name": "stdout",
     "output_type": "stream",
     "text": [
      "   transaction_count\n",
      "0           54643498\n"
     ]
    }
   ],
   "source": [
    "# Now checking to make sure there's enough data during Jan-June 2020 in the transactions table:\n",
    "query_row_count = \"\"\"\n",
    "SELECT COUNT(*) as transaction_count\n",
    "FROM `bigquery-public-data.crypto_bitcoin.transactions`\n",
    "WHERE block_timestamp BETWEEN '2020-01-01' AND '2020-06-30'\n",
    "\"\"\"\n",
    "df_row_count = client.query(query_row_count).to_dataframe()\n",
    "print(df_row_count)"
   ]
  },
  {
   "cell_type": "code",
   "execution_count": 10,
   "id": "7857c407",
   "metadata": {},
   "outputs": [
    {
     "data": {
      "text/html": [
       "<div>\n",
       "<style scoped>\n",
       "    .dataframe tbody tr th:only-of-type {\n",
       "        vertical-align: middle;\n",
       "    }\n",
       "\n",
       "    .dataframe tbody tr th {\n",
       "        vertical-align: top;\n",
       "    }\n",
       "\n",
       "    .dataframe thead th {\n",
       "        text-align: right;\n",
       "    }\n",
       "</style>\n",
       "<table border=\"1\" class=\"dataframe\">\n",
       "  <thead>\n",
       "    <tr style=\"text-align: right;\">\n",
       "      <th></th>\n",
       "      <th>transaction_id</th>\n",
       "      <th>block_number</th>\n",
       "      <th>block_hash</th>\n",
       "      <th>block_time</th>\n",
       "      <th>fee</th>\n",
       "      <th>input_value</th>\n",
       "      <th>output_value</th>\n",
       "    </tr>\n",
       "  </thead>\n",
       "  <tbody>\n",
       "    <tr>\n",
       "      <th>0</th>\n",
       "      <td>cd0ba3f8235c7052f2f3d68a26236e4a682eef77240b0b...</td>\n",
       "      <td>610833</td>\n",
       "      <td>0000000000000000000c2b6bd76a87f1957d3aca4f8dee...</td>\n",
       "      <td>2020-01-01 19:41:08+00:00</td>\n",
       "      <td>25000.000000000</td>\n",
       "      <td>20034996.000000000</td>\n",
       "      <td>20009996.000000000</td>\n",
       "    </tr>\n",
       "    <tr>\n",
       "      <th>1</th>\n",
       "      <td>fd9eaa6ac1fbc02843ae29e88fb74e0135e8dd2a0c098e...</td>\n",
       "      <td>612791</td>\n",
       "      <td>00000000000000000000c51b41435410e0bc600c20f4a3...</td>\n",
       "      <td>2020-01-14 11:31:02+00:00</td>\n",
       "      <td>25000.000000000</td>\n",
       "      <td>30000000.000000000</td>\n",
       "      <td>29975000.000000000</td>\n",
       "    </tr>\n",
       "    <tr>\n",
       "      <th>2</th>\n",
       "      <td>9ad4f0443c4cef448a7fda3eb28417ad26b52cf7d12374...</td>\n",
       "      <td>612428</td>\n",
       "      <td>0000000000000000000c48efb43f8f400b4e3922622f33...</td>\n",
       "      <td>2020-01-12 00:09:41+00:00</td>\n",
       "      <td>15000.000000000</td>\n",
       "      <td>6092990.000000000</td>\n",
       "      <td>6077990.000000000</td>\n",
       "    </tr>\n",
       "    <tr>\n",
       "      <th>3</th>\n",
       "      <td>49b30138cc68f677be31a0a6d5ae49e5a734a9f5aca4a4...</td>\n",
       "      <td>612715</td>\n",
       "      <td>000000000000000000086ce680c9916f180539d402340e...</td>\n",
       "      <td>2020-01-13 22:33:52+00:00</td>\n",
       "      <td>31200.000000000</td>\n",
       "      <td>130000.000000000</td>\n",
       "      <td>98800.000000000</td>\n",
       "    </tr>\n",
       "    <tr>\n",
       "      <th>4</th>\n",
       "      <td>0a0993c49aec974fa0a563ef2042bfdbeb00f7f41924a8...</td>\n",
       "      <td>613640</td>\n",
       "      <td>0000000000000000000c9f22305fd14cbe72b23b2d9c24...</td>\n",
       "      <td>2020-01-20 03:57:36+00:00</td>\n",
       "      <td>31200.000000000</td>\n",
       "      <td>130000.000000000</td>\n",
       "      <td>98800.000000000</td>\n",
       "    </tr>\n",
       "  </tbody>\n",
       "</table>\n",
       "</div>"
      ],
      "text/plain": [
       "                                      transaction_id  block_number  \\\n",
       "0  cd0ba3f8235c7052f2f3d68a26236e4a682eef77240b0b...        610833   \n",
       "1  fd9eaa6ac1fbc02843ae29e88fb74e0135e8dd2a0c098e...        612791   \n",
       "2  9ad4f0443c4cef448a7fda3eb28417ad26b52cf7d12374...        612428   \n",
       "3  49b30138cc68f677be31a0a6d5ae49e5a734a9f5aca4a4...        612715   \n",
       "4  0a0993c49aec974fa0a563ef2042bfdbeb00f7f41924a8...        613640   \n",
       "\n",
       "                                          block_hash  \\\n",
       "0  0000000000000000000c2b6bd76a87f1957d3aca4f8dee...   \n",
       "1  00000000000000000000c51b41435410e0bc600c20f4a3...   \n",
       "2  0000000000000000000c48efb43f8f400b4e3922622f33...   \n",
       "3  000000000000000000086ce680c9916f180539d402340e...   \n",
       "4  0000000000000000000c9f22305fd14cbe72b23b2d9c24...   \n",
       "\n",
       "                 block_time              fee         input_value  \\\n",
       "0 2020-01-01 19:41:08+00:00  25000.000000000  20034996.000000000   \n",
       "1 2020-01-14 11:31:02+00:00  25000.000000000  30000000.000000000   \n",
       "2 2020-01-12 00:09:41+00:00  15000.000000000   6092990.000000000   \n",
       "3 2020-01-13 22:33:52+00:00  31200.000000000    130000.000000000   \n",
       "4 2020-01-20 03:57:36+00:00  31200.000000000    130000.000000000   \n",
       "\n",
       "         output_value  \n",
       "0  20009996.000000000  \n",
       "1  29975000.000000000  \n",
       "2   6077990.000000000  \n",
       "3     98800.000000000  \n",
       "4     98800.000000000  "
      ]
     },
     "execution_count": 10,
     "metadata": {},
     "output_type": "execute_result"
    }
   ],
   "source": [
    "# doing a small check to see if I can join things on the blocks and transactions table:\n",
    "query_join_test = \"\"\"\n",
    "SELECT\n",
    "  t.hash AS transaction_id,\n",
    "  t.block_number,\n",
    "  b.hash AS block_hash,\n",
    "  b.timestamp AS block_time,\n",
    "  t.fee,\n",
    "  t.input_value,\n",
    "  t.output_value\n",
    "FROM\n",
    "  `bigquery-public-data.crypto_bitcoin.transactions` t\n",
    "JOIN\n",
    "  `bigquery-public-data.crypto_bitcoin.blocks` b\n",
    "ON\n",
    "  t.block_number = b.number\n",
    "WHERE\n",
    "  t.block_timestamp BETWEEN '2020-01-01' AND '2020-06-30'\n",
    "LIMIT 10\n",
    "\"\"\"\n",
    "df_join_test = client.query(query_join_test).to_dataframe()\n",
    "df_join_test.head()"
   ]
  },
  {
   "cell_type": "code",
   "execution_count": 11,
   "id": "fa4102b6",
   "metadata": {},
   "outputs": [
    {
     "name": "stdout",
     "output_type": "stream",
     "text": [
      "<class 'pandas.core.frame.DataFrame'>\n",
      "RangeIndex: 26253 entries, 0 to 26252\n",
      "Data columns (total 13 columns):\n",
      " #   Column             Non-Null Count  Dtype              \n",
      "---  ------             --------------  -----              \n",
      " 0   hash               26253 non-null  object             \n",
      " 1   size               26253 non-null  Int64              \n",
      " 2   stripped_size      26253 non-null  Int64              \n",
      " 3   weight             26253 non-null  Int64              \n",
      " 4   number             26253 non-null  Int64              \n",
      " 5   version            26253 non-null  Int64              \n",
      " 6   merkle_root        26253 non-null  object             \n",
      " 7   timestamp          26253 non-null  datetime64[us, UTC]\n",
      " 8   timestamp_month    26253 non-null  dbdate             \n",
      " 9   nonce              26253 non-null  object             \n",
      " 10  bits               26253 non-null  object             \n",
      " 11  coinbase_param     26253 non-null  object             \n",
      " 12  transaction_count  26253 non-null  Int64              \n",
      "dtypes: Int64(6), datetime64[us, UTC](1), dbdate(1), object(5)\n",
      "memory usage: 2.8+ MB\n"
     ]
    }
   ],
   "source": [
    "query_blocks_covid = \"\"\"\n",
    "SELECT *\n",
    "FROM `bigquery-public-data.crypto_bitcoin.blocks`\n",
    "WHERE timestamp BETWEEN '2020-01-01' AND '2020-06-30'\n",
    "\"\"\"\n",
    "df_blocks = client.query(query_blocks_covid).to_dataframe()\n",
    "df_blocks.info()"
   ]
  },
  {
   "cell_type": "markdown",
   "id": "0869c05e",
   "metadata": {},
   "source": [
    "Since I found out the bitcoin transactions table for March of 2020 adds up to 10 Million rows, I decided to extract a sample of 100K rows of data"
   ]
  },
  {
   "cell_type": "code",
   "execution_count": null,
   "id": "0966d8f5",
   "metadata": {},
   "outputs": [
    {
     "name": "stdout",
     "output_type": "stream",
     "text": [
      "<class 'pandas.core.frame.DataFrame'>\n",
      "RangeIndex: 100000 entries, 0 to 99999\n",
      "Data columns (total 17 columns):\n",
      " #   Column                 Non-Null Count   Dtype              \n",
      "---  ------                 --------------   -----              \n",
      " 0   hash                   100000 non-null  object             \n",
      " 1   size                   100000 non-null  Int64              \n",
      " 2   virtual_size           100000 non-null  Int64              \n",
      " 3   version                100000 non-null  Int64              \n",
      " 4   lock_time              100000 non-null  Int64              \n",
      " 5   block_hash             100000 non-null  object             \n",
      " 6   block_number           100000 non-null  Int64              \n",
      " 7   block_timestamp        100000 non-null  datetime64[us, UTC]\n",
      " 8   block_timestamp_month  100000 non-null  dbdate             \n",
      " 9   input_count            100000 non-null  Int64              \n",
      " 10  output_count           100000 non-null  Int64              \n",
      " 11  input_value            99962 non-null   object             \n",
      " 12  output_value           100000 non-null  object             \n",
      " 13  is_coinbase            100000 non-null  boolean            \n",
      " 14  fee                    100000 non-null  object             \n",
      " 15  inputs                 100000 non-null  object             \n",
      " 16  outputs                100000 non-null  object             \n",
      "dtypes: Int64(7), boolean(1), datetime64[us, UTC](1), dbdate(1), object(7)\n",
      "memory usage: 13.1+ MB\n"
     ]
    }
   ],
   "source": [
    "# Getting a sample (100k rows) of data from the bitcoin transactions table for March 2020:\n",
    "query_transactions_march_2020 = \"\"\"\n",
    "SELECT *\n",
    "FROM `bigquery-public-data.crypto_bitcoin.transactions`\n",
    "WHERE block_timestamp BETWEEN '2020-03-01' AND '2020-03-31 23:59:59'\n",
    "LIMIT 100000\n",
    "\"\"\"\n",
    "df_transactions = client.query(query_transactions_march_2020).to_dataframe()\n",
    "df_transactions.info()"
   ]
  },
  {
   "cell_type": "code",
   "execution_count": 31,
   "id": "759b497a",
   "metadata": {},
   "outputs": [
    {
     "data": {
      "text/plain": [
       "(Timestamp('2020-03-01 00:04:03+0000', tz='UTC'),\n",
       " Timestamp('2020-03-31 23:51:06+0000', tz='UTC'))"
      ]
     },
     "execution_count": 31,
     "metadata": {},
     "output_type": "execute_result"
    }
   ],
   "source": [
    "(df_transactions['block_timestamp'].min(), df_transactions['block_timestamp'].max())"
   ]
  },
  {
   "cell_type": "code",
   "execution_count": 8,
   "id": "a3018a20",
   "metadata": {},
   "outputs": [],
   "source": [
    "# SQLite start\n",
    "import sqlite3\n"
   ]
  },
  {
   "cell_type": "code",
   "execution_count": 10,
   "id": "83e05c18",
   "metadata": {},
   "outputs": [],
   "source": [
    "# Connecting to a new SQLite database to create a file for my dataset\n",
    "connection = sqlite3.connect(\"bitcoin_data.db\")"
   ]
  },
  {
   "cell_type": "code",
   "execution_count": 12,
   "id": "91a056ea",
   "metadata": {},
   "outputs": [
    {
     "ename": "NameError",
     "evalue": "name 'df_blocks' is not defined",
     "output_type": "error",
     "traceback": [
      "\u001b[31m---------------------------------------------------------------------------\u001b[39m",
      "\u001b[31mNameError\u001b[39m                                 Traceback (most recent call last)",
      "\u001b[36mCell\u001b[39m\u001b[36m \u001b[39m\u001b[32mIn[12]\u001b[39m\u001b[32m, line 3\u001b[39m\n\u001b[32m      1\u001b[39m \u001b[38;5;66;03m# Saving the blocks DataFrame into the database as a new table called \"blocks\"\u001b[39;00m\n\u001b[32m      2\u001b[39m table_name = \u001b[33m\"\u001b[39m\u001b[33mblocks\u001b[39m\u001b[33m\"\u001b[39m\n\u001b[32m----> \u001b[39m\u001b[32m3\u001b[39m data = \u001b[43mdf_blocks\u001b[49m\n\u001b[32m      4\u001b[39m \u001b[38;5;66;03m# Writing the data in df_blocks to the database\u001b[39;00m\n\u001b[32m      5\u001b[39m data.to_sql(\n\u001b[32m      6\u001b[39m         name = table_name,\n\u001b[32m      7\u001b[39m         con = connection,\n\u001b[32m      8\u001b[39m         if_exists = \u001b[33m\"\u001b[39m\u001b[33mreplace\u001b[39m\u001b[33m\"\u001b[39m,\n\u001b[32m      9\u001b[39m         index = \u001b[38;5;28;01mFalse\u001b[39;00m\n\u001b[32m     10\u001b[39m )\n",
      "\u001b[31mNameError\u001b[39m: name 'df_blocks' is not defined"
     ]
    }
   ],
   "source": [
    "# Saving the blocks DataFrame into the database as a new table called \"blocks\"\n",
    "table_name = \"blocks\"\n",
    "data = df_blocks\n",
    "# Writing the data in df_blocks to the database\n",
    "data.to_sql(\n",
    "        name = table_name,\n",
    "        con = connection,\n",
    "        if_exists = \"replace\",\n",
    "        index = False\n",
    ")\n"
   ]
  },
  {
   "cell_type": "code",
   "execution_count": 3,
   "id": "45244195",
   "metadata": {},
   "outputs": [
    {
     "name": "stdout",
     "output_type": "stream",
     "text": [
      "                                            block_id\n",
      "0  00000000000000000069564d0540f7d160fc7400e03c49...\n",
      "1  000000000000000000022ab0c5740584d31006ddcd1e20...\n",
      "2  000000000000000001628d23a7ba194fe9498676960947...\n",
      "3  00000000000000000025a758640f78eff1fe5bc472ff03...\n",
      "4  0000000000000000004769939c52cfa8e8f1585b580080...\n"
     ]
    },
    {
     "name": "stderr",
     "output_type": "stream",
     "text": [
      "C:\\Users\\smby2\\AppData\\Roaming\\Python\\Python313\\site-packages\\google\\cloud\\bigquery\\table.py:1957: UserWarning: BigQuery Storage module not found, fetch data with the REST endpoint instead.\n",
      "  warnings.warn(\n"
     ]
    }
   ],
   "source": [
    "#Testing my code to see if it is working:\n",
    "query1 = \"\"\"\n",
    "    SELECT block_id\n",
    "    FROM `bigquery-public-data.bitcoin_blockchain.blocks`\n",
    "    LIMIT 5\n",
    "\"\"\"\n",
    "\n",
    "\n",
    "df = client.query(query1).to_dataframe()\n",
    "print(df)"
   ]
  },
  {
   "cell_type": "code",
   "execution_count": 4,
   "id": "956ab7da",
   "metadata": {},
   "outputs": [
    {
     "name": "stdout",
     "output_type": "stream",
     "text": [
      "c:\\Python313\\python.exe\n"
     ]
    }
   ],
   "source": [
    "import sys\n",
    "print(sys.executable)\n"
   ]
  },
  {
   "cell_type": "code",
   "execution_count": 5,
   "id": "306a54ea",
   "metadata": {},
   "outputs": [
    {
     "name": "stdout",
     "output_type": "stream",
     "text": [
      "Index(['block_id'], dtype='object')\n"
     ]
    }
   ],
   "source": [
    "query2 = \"\"\"\n",
    "    SELECT *\n",
    "    FROM `bigquery-public-data.bitcoin_blockchain.blocks`\n",
    "    LIMIT 5\n",
    "\"\"\"\n",
    "print(df.columns)"
   ]
  },
  {
   "cell_type": "code",
   "execution_count": 6,
   "id": "858a2a01",
   "metadata": {},
   "outputs": [
    {
     "name": "stdout",
     "output_type": "stream",
     "text": [
      "Index(['block_id'], dtype='object')\n"
     ]
    }
   ],
   "source": [
    "query3 = \"\"\"\n",
    "    SELECT *\n",
    "    FROM `bigquery-public-data.bitcoin_blockchain.transactions`\n",
    "    LIMIT 5\n",
    "\"\"\"\n",
    "print(df.columns)"
   ]
  },
  {
   "cell_type": "code",
   "execution_count": 7,
   "id": "34e6e417",
   "metadata": {},
   "outputs": [
    {
     "name": "stdout",
     "output_type": "stream",
     "text": [
      "                                          script_asm  block_number value  \\\n",
      "0  OP_RETURN 58325bbc0b0f83bf38d794ddddcd41ac0944...        906690  0E-9   \n",
      "1  OP_RETURN 58325bbc0b0f83bf38d794ddddcd41ac0944...        906690  0E-9   \n",
      "2  OP_RETURN 00034db3c093ea8ba03987aed40813c04acb...        906690  0E-9   \n",
      "3  OP_RETURN 58325bbc0b0f83bf38d794ddddcd41ac0944...        906690  0E-9   \n",
      "4  OP_RETURN 58325bbc0b0f83bf38d794ddddcd41ac0944...        906690  0E-9   \n",
      "\n",
      "                                    transaction_hash  \n",
      "0  eb62fd85aedcd9fec45bad73d048a1e8d0f48ae17ababd...  \n",
      "1  124a375deda998fac0b70c561b83cc629117b96ff46b3f...  \n",
      "2  5161061aa560fb6b9541d97b34c05bf61bb0ff60ab5abb...  \n",
      "3  71587df89da762662f7e44011dbf2c362f600a7c0c896f...  \n",
      "4  9abf76d1f14e37a54a2a462fa332c46f3167ff9aa7c39c...  \n"
     ]
    },
    {
     "name": "stderr",
     "output_type": "stream",
     "text": [
      "C:\\Users\\smby2\\AppData\\Roaming\\Python\\Python313\\site-packages\\google\\cloud\\bigquery\\table.py:1957: UserWarning: BigQuery Storage module not found, fetch data with the REST endpoint instead.\n",
      "  warnings.warn(\n"
     ]
    }
   ],
   "source": [
    "query4 = \"\"\"\n",
    "    SELECT \n",
    "      o.script_asm,\n",
    "      o.block_number,\n",
    "      o.value,\n",
    "      o.transaction_hash\n",
    "    FROM `bigquery-public-data.crypto_bitcoin.outputs` AS o\n",
    "    WHERE o.script_asm LIKE '%OP_RETURN%'\n",
    "    LIMIT 10\n",
    "\"\"\"\n",
    "\n",
    "df = client.query(query4).to_dataframe()\n",
    "print(df.head())\n"
   ]
  },
  {
   "cell_type": "code",
   "execution_count": 8,
   "id": "d2728c31",
   "metadata": {},
   "outputs": [
    {
     "name": "stdout",
     "output_type": "stream",
     "text": [
      "Index(['transaction_hash', 'block_hash', 'block_number', 'block_timestamp',\n",
      "       'index', 'script_asm', 'script_hex', 'required_signatures', 'type',\n",
      "       'addresses', 'value'],\n",
      "      dtype='object')\n"
     ]
    },
    {
     "name": "stderr",
     "output_type": "stream",
     "text": [
      "C:\\Users\\smby2\\AppData\\Roaming\\Python\\Python313\\site-packages\\google\\cloud\\bigquery\\table.py:1957: UserWarning: BigQuery Storage module not found, fetch data with the REST endpoint instead.\n",
      "  warnings.warn(\n"
     ]
    }
   ],
   "source": [
    "query5 = \"\"\"\n",
    "    SELECT *\n",
    "    FROM `bigquery-public-data.crypto_bitcoin.outputs` AS o\n",
    "    WHERE o.script_asm LIKE '%OP_RETURN%'\n",
    "    LIMIT 10\n",
    "\"\"\"\n",
    "\n",
    "df = client.query(query5).to_dataframe()\n",
    "print(df.columns)"
   ]
  },
  {
   "cell_type": "markdown",
   "id": "3f6232dc",
   "metadata": {},
   "source": [
    "Stopped here as of 5/31. when I left off, I was able to see that tables:\n",
    "A. bigquery-public-data.bitcoin_blockchain.blocks table\n",
    "B. bigquery-public-data.bitcoin_blockchain.transactions table\n",
    "C. bigquery-public-data.crypto_bitcoin.outputs table\n",
    "cointained the data I needed to connect block timestamp to messages hidden in OP_RETURN column (in the outputs table) \n",
    "1. blocks → has block_hash and block_timestamp\n",
    "2. transactions → has both transaction_hash and block_hash\n",
    "3. outputs → has transaction_hash\n",
    "\n",
    "\n",
    "\n"
   ]
  },
  {
   "cell_type": "code",
   "execution_count": null,
   "id": "ab4539e1",
   "metadata": {},
   "outputs": [],
   "source": []
  }
 ],
 "metadata": {
  "kernelspec": {
   "display_name": "Python 3",
   "language": "python",
   "name": "python3"
  },
  "language_info": {
   "codemirror_mode": {
    "name": "ipython",
    "version": 3
   },
   "file_extension": ".py",
   "mimetype": "text/x-python",
   "name": "python",
   "nbconvert_exporter": "python",
   "pygments_lexer": "ipython3",
   "version": "3.13.2"
  }
 },
 "nbformat": 4,
 "nbformat_minor": 5
}
