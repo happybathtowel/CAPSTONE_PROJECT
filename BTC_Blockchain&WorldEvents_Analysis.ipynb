{
 "cells": [
  {
   "cell_type": "markdown",
   "id": "d0209ea5",
   "metadata": {},
   "source": [
    "Goal: Examine correlations between global,socially significant events and Bitcoin blockchain metrics (block congestion, price movement, metadata notes) over time.\n",
    "Utilizing publick bitcoin blockchain datasets stored in bigquery\n",
    "to begin, I installed the following libraries:\n",
    "pip install google-cloud-bigquery pandas pyarrow\n",
    "\n",
    "Once I started trying to communicate with bigquery database, I had to also install:\n",
    "pip install db-dtypes\n",
    "to help pandas understand how to display data types used in SQL like \"DATE, TIMESTAMP, STRUCT,etc.\n",
    "\n",
    "Tables used:\n",
    " \n",
    "A. bigquery-public-data.bitcoin_blockchain.blocks table\n",
    "B. bigquery-public-data.bitcoin_blockchain.transactions table\n",
    "C. bigquery-public-data.crypto_bitcoin.outputs table\n"
   ]
  },
  {
   "cell_type": "code",
   "execution_count": 18,
   "id": "b6a8c4bb",
   "metadata": {},
   "outputs": [
    {
     "name": "stdout",
     "output_type": "stream",
     "text": [
      "Defaulting to user installation because normal site-packages is not writeable\n",
      "Requirement already satisfied: asttokens==3.0.0 in c:\\users\\smby2\\appdata\\roaming\\python\\python313\\site-packages (from -r requirements.txt (line 1)) (3.0.0)\n",
      "Requirement already satisfied: cachetools==5.5.2 in c:\\users\\smby2\\appdata\\roaming\\python\\python313\\site-packages (from -r requirements.txt (line 2)) (5.5.2)\n",
      "Requirement already satisfied: certifi==2025.4.26 in c:\\users\\smby2\\appdata\\roaming\\python\\python313\\site-packages (from -r requirements.txt (line 3)) (2025.4.26)\n",
      "Requirement already satisfied: charset-normalizer==3.4.2 in c:\\users\\smby2\\appdata\\roaming\\python\\python313\\site-packages (from -r requirements.txt (line 4)) (3.4.2)\n",
      "Requirement already satisfied: colorama==0.4.6 in c:\\users\\smby2\\appdata\\roaming\\python\\python313\\site-packages (from -r requirements.txt (line 5)) (0.4.6)\n",
      "Requirement already satisfied: comm==0.2.2 in c:\\users\\smby2\\appdata\\roaming\\python\\python313\\site-packages (from -r requirements.txt (line 6)) (0.2.2)\n",
      "Requirement already satisfied: contourpy==1.3.2 in c:\\users\\smby2\\appdata\\roaming\\python\\python313\\site-packages (from -r requirements.txt (line 7)) (1.3.2)\n",
      "Requirement already satisfied: cycler==0.12.1 in c:\\users\\smby2\\appdata\\roaming\\python\\python313\\site-packages (from -r requirements.txt (line 8)) (0.12.1)\n",
      "Requirement already satisfied: db-dtypes==1.4.3 in c:\\users\\smby2\\appdata\\roaming\\python\\python313\\site-packages (from -r requirements.txt (line 9)) (1.4.3)\n",
      "Requirement already satisfied: debugpy==1.8.13 in c:\\users\\smby2\\appdata\\roaming\\python\\python313\\site-packages (from -r requirements.txt (line 10)) (1.8.13)\n",
      "Requirement already satisfied: decorator==5.2.1 in c:\\users\\smby2\\appdata\\roaming\\python\\python313\\site-packages (from -r requirements.txt (line 11)) (5.2.1)\n",
      "Requirement already satisfied: et_xmlfile==2.0.0 in c:\\users\\smby2\\appdata\\roaming\\python\\python313\\site-packages (from -r requirements.txt (line 12)) (2.0.0)\n",
      "Requirement already satisfied: executing==2.2.0 in c:\\users\\smby2\\appdata\\roaming\\python\\python313\\site-packages (from -r requirements.txt (line 13)) (2.2.0)\n",
      "Requirement already satisfied: fonttools==4.57.0 in c:\\users\\smby2\\appdata\\roaming\\python\\python313\\site-packages (from -r requirements.txt (line 14)) (4.57.0)\n",
      "Requirement already satisfied: google-api-core==2.24.2 in c:\\users\\smby2\\appdata\\roaming\\python\\python313\\site-packages (from -r requirements.txt (line 15)) (2.24.2)\n",
      "Requirement already satisfied: google-auth==2.40.2 in c:\\users\\smby2\\appdata\\roaming\\python\\python313\\site-packages (from -r requirements.txt (line 16)) (2.40.2)\n",
      "Requirement already satisfied: google-cloud-bigquery==3.34.0 in c:\\users\\smby2\\appdata\\roaming\\python\\python313\\site-packages (from -r requirements.txt (line 17)) (3.34.0)\n",
      "Requirement already satisfied: google-cloud-core==2.4.3 in c:\\users\\smby2\\appdata\\roaming\\python\\python313\\site-packages (from -r requirements.txt (line 18)) (2.4.3)\n",
      "Requirement already satisfied: google-crc32c==1.7.1 in c:\\users\\smby2\\appdata\\roaming\\python\\python313\\site-packages (from -r requirements.txt (line 19)) (1.7.1)\n",
      "Requirement already satisfied: google-resumable-media==2.7.2 in c:\\users\\smby2\\appdata\\roaming\\python\\python313\\site-packages (from -r requirements.txt (line 20)) (2.7.2)\n",
      "Requirement already satisfied: googleapis-common-protos==1.70.0 in c:\\users\\smby2\\appdata\\roaming\\python\\python313\\site-packages (from -r requirements.txt (line 21)) (1.70.0)\n",
      "Requirement already satisfied: grpcio==1.73.0rc1 in c:\\users\\smby2\\appdata\\roaming\\python\\python313\\site-packages (from -r requirements.txt (line 22)) (1.73.0rc1)\n",
      "Requirement already satisfied: grpcio-status==1.73.0rc1 in c:\\users\\smby2\\appdata\\roaming\\python\\python313\\site-packages (from -r requirements.txt (line 23)) (1.73.0rc1)\n",
      "Requirement already satisfied: idna==3.10 in c:\\users\\smby2\\appdata\\roaming\\python\\python313\\site-packages (from -r requirements.txt (line 24)) (3.10)\n",
      "Requirement already satisfied: ipykernel==6.29.5 in c:\\users\\smby2\\appdata\\roaming\\python\\python313\\site-packages (from -r requirements.txt (line 25)) (6.29.5)\n",
      "Requirement already satisfied: ipython==9.0.2 in c:\\users\\smby2\\appdata\\roaming\\python\\python313\\site-packages (from -r requirements.txt (line 26)) (9.0.2)\n",
      "Requirement already satisfied: ipython_pygments_lexers==1.1.1 in c:\\users\\smby2\\appdata\\roaming\\python\\python313\\site-packages (from -r requirements.txt (line 27)) (1.1.1)\n",
      "Requirement already satisfied: jedi==0.19.2 in c:\\users\\smby2\\appdata\\roaming\\python\\python313\\site-packages (from -r requirements.txt (line 28)) (0.19.2)\n",
      "Requirement already satisfied: jupyter_client==8.6.3 in c:\\users\\smby2\\appdata\\roaming\\python\\python313\\site-packages (from -r requirements.txt (line 29)) (8.6.3)\n",
      "Requirement already satisfied: jupyter_core==5.7.2 in c:\\users\\smby2\\appdata\\roaming\\python\\python313\\site-packages (from -r requirements.txt (line 30)) (5.7.2)\n",
      "Requirement already satisfied: kiwisolver==1.4.8 in c:\\users\\smby2\\appdata\\roaming\\python\\python313\\site-packages (from -r requirements.txt (line 31)) (1.4.8)\n",
      "Requirement already satisfied: matplotlib==3.10.1 in c:\\users\\smby2\\appdata\\roaming\\python\\python313\\site-packages (from -r requirements.txt (line 32)) (3.10.1)\n",
      "Requirement already satisfied: matplotlib-inline==0.1.7 in c:\\users\\smby2\\appdata\\roaming\\python\\python313\\site-packages (from -r requirements.txt (line 33)) (0.1.7)\n",
      "Requirement already satisfied: nest-asyncio==1.6.0 in c:\\users\\smby2\\appdata\\roaming\\python\\python313\\site-packages (from -r requirements.txt (line 34)) (1.6.0)\n",
      "Requirement already satisfied: numpy==2.2.4 in c:\\users\\smby2\\appdata\\roaming\\python\\python313\\site-packages (from -r requirements.txt (line 35)) (2.2.4)\n",
      "Requirement already satisfied: openpyxl==3.1.5 in c:\\users\\smby2\\appdata\\roaming\\python\\python313\\site-packages (from -r requirements.txt (line 36)) (3.1.5)\n",
      "Requirement already satisfied: packaging==24.2 in c:\\users\\smby2\\appdata\\roaming\\python\\python313\\site-packages (from -r requirements.txt (line 37)) (24.2)\n",
      "Requirement already satisfied: pandas==2.2.3 in c:\\users\\smby2\\appdata\\roaming\\python\\python313\\site-packages (from -r requirements.txt (line 38)) (2.2.3)\n",
      "Requirement already satisfied: parso==0.8.4 in c:\\users\\smby2\\appdata\\roaming\\python\\python313\\site-packages (from -r requirements.txt (line 39)) (0.8.4)\n",
      "Requirement already satisfied: pillow==11.2.1 in c:\\users\\smby2\\appdata\\roaming\\python\\python313\\site-packages (from -r requirements.txt (line 40)) (11.2.1)\n",
      "Requirement already satisfied: platformdirs==4.3.6 in c:\\users\\smby2\\appdata\\roaming\\python\\python313\\site-packages (from -r requirements.txt (line 41)) (4.3.6)\n",
      "Requirement already satisfied: prompt_toolkit==3.0.50 in c:\\users\\smby2\\appdata\\roaming\\python\\python313\\site-packages (from -r requirements.txt (line 42)) (3.0.50)\n",
      "Requirement already satisfied: proto-plus==1.26.1 in c:\\users\\smby2\\appdata\\roaming\\python\\python313\\site-packages (from -r requirements.txt (line 43)) (1.26.1)\n",
      "Requirement already satisfied: protobuf==6.31.1 in c:\\users\\smby2\\appdata\\roaming\\python\\python313\\site-packages (from -r requirements.txt (line 44)) (6.31.1)\n",
      "Requirement already satisfied: psutil==7.0.0 in c:\\users\\smby2\\appdata\\roaming\\python\\python313\\site-packages (from -r requirements.txt (line 45)) (7.0.0)\n",
      "Requirement already satisfied: pure_eval==0.2.3 in c:\\users\\smby2\\appdata\\roaming\\python\\python313\\site-packages (from -r requirements.txt (line 46)) (0.2.3)\n",
      "Requirement already satisfied: pyarrow==20.0.0 in c:\\users\\smby2\\appdata\\roaming\\python\\python313\\site-packages (from -r requirements.txt (line 47)) (20.0.0)\n",
      "Requirement already satisfied: pyasn1==0.6.1 in c:\\users\\smby2\\appdata\\roaming\\python\\python313\\site-packages (from -r requirements.txt (line 48)) (0.6.1)\n",
      "Requirement already satisfied: pyasn1_modules==0.4.2 in c:\\users\\smby2\\appdata\\roaming\\python\\python313\\site-packages (from -r requirements.txt (line 49)) (0.4.2)\n",
      "Requirement already satisfied: Pygments==2.19.1 in c:\\users\\smby2\\appdata\\roaming\\python\\python313\\site-packages (from -r requirements.txt (line 50)) (2.19.1)\n",
      "Requirement already satisfied: pyparsing==3.2.3 in c:\\users\\smby2\\appdata\\roaming\\python\\python313\\site-packages (from -r requirements.txt (line 51)) (3.2.3)\n",
      "Requirement already satisfied: python-dateutil==2.9.0.post0 in c:\\users\\smby2\\appdata\\roaming\\python\\python313\\site-packages (from -r requirements.txt (line 52)) (2.9.0.post0)\n",
      "Requirement already satisfied: pytz==2025.2 in c:\\users\\smby2\\appdata\\roaming\\python\\python313\\site-packages (from -r requirements.txt (line 53)) (2025.2)\n",
      "Requirement already satisfied: pywin32==309 in c:\\users\\smby2\\appdata\\roaming\\python\\python313\\site-packages (from -r requirements.txt (line 54)) (309)\n",
      "Requirement already satisfied: pyzmq==26.3.0 in c:\\users\\smby2\\appdata\\roaming\\python\\python313\\site-packages (from -r requirements.txt (line 55)) (26.3.0)\n",
      "Requirement already satisfied: requests==2.32.3 in c:\\users\\smby2\\appdata\\roaming\\python\\python313\\site-packages (from -r requirements.txt (line 56)) (2.32.3)\n",
      "Requirement already satisfied: rsa==4.9.1 in c:\\users\\smby2\\appdata\\roaming\\python\\python313\\site-packages (from -r requirements.txt (line 57)) (4.9.1)\n",
      "Requirement already satisfied: seaborn==0.13.2 in c:\\users\\smby2\\appdata\\roaming\\python\\python313\\site-packages (from -r requirements.txt (line 58)) (0.13.2)\n",
      "Requirement already satisfied: six==1.17.0 in c:\\users\\smby2\\appdata\\roaming\\python\\python313\\site-packages (from -r requirements.txt (line 59)) (1.17.0)\n",
      "Requirement already satisfied: stack-data==0.6.3 in c:\\users\\smby2\\appdata\\roaming\\python\\python313\\site-packages (from -r requirements.txt (line 60)) (0.6.3)\n",
      "Requirement already satisfied: tornado==6.4.2 in c:\\users\\smby2\\appdata\\roaming\\python\\python313\\site-packages (from -r requirements.txt (line 61)) (6.4.2)\n",
      "Requirement already satisfied: traitlets==5.14.3 in c:\\users\\smby2\\appdata\\roaming\\python\\python313\\site-packages (from -r requirements.txt (line 62)) (5.14.3)\n",
      "Requirement already satisfied: tzdata==2025.2 in c:\\users\\smby2\\appdata\\roaming\\python\\python313\\site-packages (from -r requirements.txt (line 63)) (2025.2)\n",
      "Requirement already satisfied: urllib3==2.4.0 in c:\\users\\smby2\\appdata\\roaming\\python\\python313\\site-packages (from -r requirements.txt (line 64)) (2.4.0)\n",
      "Requirement already satisfied: wcwidth==0.2.13 in c:\\users\\smby2\\appdata\\roaming\\python\\python313\\site-packages (from -r requirements.txt (line 65)) (0.2.13)\n",
      "Note: you may need to restart the kernel to use updated packages.\n"
     ]
    }
   ],
   "source": [
    "%pip install -r requirements.txt\n"
   ]
  },
  {
   "cell_type": "code",
   "execution_count": 19,
   "id": "08dae270",
   "metadata": {},
   "outputs": [],
   "source": [
    "from google.cloud import bigquery\n",
    "import os\n",
    "#Set the environement variable for key file (telling python where my login key file is)\n",
    "os.environ[\"GOOGLE_APPLICATION_CREDENTIALS\"] = \"Credentials/capstone-project-461516-4b2a88c5f4cd.json\"\n",
    "#Start the BigQuery client using my key\n",
    "client = bigquery.Client()\n",
    "\n"
   ]
  },
  {
   "cell_type": "code",
   "execution_count": 20,
   "id": "45244195",
   "metadata": {},
   "outputs": [
    {
     "name": "stdout",
     "output_type": "stream",
     "text": [
      "                                            block_id\n",
      "0  00000000000000000069564d0540f7d160fc7400e03c49...\n",
      "1  000000000000000000022ab0c5740584d31006ddcd1e20...\n",
      "2  000000000000000001628d23a7ba194fe9498676960947...\n",
      "3  00000000000000000025a758640f78eff1fe5bc472ff03...\n",
      "4  0000000000000000004769939c52cfa8e8f1585b580080...\n"
     ]
    },
    {
     "name": "stderr",
     "output_type": "stream",
     "text": [
      "C:\\Users\\smby2\\AppData\\Roaming\\Python\\Python313\\site-packages\\google\\cloud\\bigquery\\table.py:1957: UserWarning: BigQuery Storage module not found, fetch data with the REST endpoint instead.\n",
      "  warnings.warn(\n"
     ]
    }
   ],
   "source": [
    "#Testing my code to see if it is working:\n",
    "query1 = \"\"\"\n",
    "    SELECT block_id\n",
    "    FROM `bigquery-public-data.bitcoin_blockchain.blocks`\n",
    "    LIMIT 5\n",
    "\"\"\"\n",
    "\n",
    "\n",
    "df = client.query(query1).to_dataframe()\n",
    "print(df)"
   ]
  },
  {
   "cell_type": "code",
   "execution_count": 21,
   "id": "956ab7da",
   "metadata": {},
   "outputs": [
    {
     "name": "stdout",
     "output_type": "stream",
     "text": [
      "c:\\Python313\\python.exe\n"
     ]
    }
   ],
   "source": [
    "import sys\n",
    "print(sys.executable)\n"
   ]
  },
  {
   "cell_type": "code",
   "execution_count": 22,
   "id": "306a54ea",
   "metadata": {},
   "outputs": [
    {
     "name": "stdout",
     "output_type": "stream",
     "text": [
      "Index(['block_id'], dtype='object')\n"
     ]
    }
   ],
   "source": [
    "query2 = \"\"\"\n",
    "    SELECT *\n",
    "    FROM `bigquery-public-data.bitcoin_blockchain.blocks`\n",
    "    LIMIT 5\n",
    "\"\"\"\n",
    "print(df.columns)"
   ]
  },
  {
   "cell_type": "code",
   "execution_count": 23,
   "id": "858a2a01",
   "metadata": {},
   "outputs": [
    {
     "name": "stdout",
     "output_type": "stream",
     "text": [
      "Index(['block_id'], dtype='object')\n"
     ]
    }
   ],
   "source": [
    "query3 = \"\"\"\n",
    "    SELECT *\n",
    "    FROM `bigquery-public-data.bitcoin_blockchain.transactions`\n",
    "    LIMIT 5\n",
    "\"\"\"\n",
    "print(df.columns)"
   ]
  },
  {
   "cell_type": "code",
   "execution_count": 24,
   "id": "34e6e417",
   "metadata": {},
   "outputs": [
    {
     "name": "stdout",
     "output_type": "stream",
     "text": [
      "                                          script_asm  block_number value  \\\n",
      "0  OP_RETURN 58325bbc0b0f83bf38d794ddddcd41ac0944...        906690  0E-9   \n",
      "1  OP_RETURN 58325bbc0b0f83bf38d794ddddcd41ac0944...        906690  0E-9   \n",
      "2  OP_RETURN 00034db3c093ea8ba03987aed40813c04acb...        906690  0E-9   \n",
      "3  OP_RETURN 58325bbc0b0f83bf38d794ddddcd41ac0944...        906690  0E-9   \n",
      "4  OP_RETURN 58325bbc0b0f83bf38d794ddddcd41ac0944...        906690  0E-9   \n",
      "\n",
      "                                    transaction_hash  \n",
      "0  eb62fd85aedcd9fec45bad73d048a1e8d0f48ae17ababd...  \n",
      "1  124a375deda998fac0b70c561b83cc629117b96ff46b3f...  \n",
      "2  5161061aa560fb6b9541d97b34c05bf61bb0ff60ab5abb...  \n",
      "3  71587df89da762662f7e44011dbf2c362f600a7c0c896f...  \n",
      "4  9abf76d1f14e37a54a2a462fa332c46f3167ff9aa7c39c...  \n"
     ]
    },
    {
     "name": "stderr",
     "output_type": "stream",
     "text": [
      "C:\\Users\\smby2\\AppData\\Roaming\\Python\\Python313\\site-packages\\google\\cloud\\bigquery\\table.py:1957: UserWarning: BigQuery Storage module not found, fetch data with the REST endpoint instead.\n",
      "  warnings.warn(\n"
     ]
    }
   ],
   "source": [
    "query4 = \"\"\"\n",
    "    SELECT \n",
    "      o.script_asm,\n",
    "      o.block_number,\n",
    "      o.value,\n",
    "      o.transaction_hash\n",
    "    FROM `bigquery-public-data.crypto_bitcoin.outputs` AS o\n",
    "    WHERE o.script_asm LIKE '%OP_RETURN%'\n",
    "    LIMIT 10\n",
    "\"\"\"\n",
    "\n",
    "df = client.query(query4).to_dataframe()\n",
    "print(df.head())\n"
   ]
  },
  {
   "cell_type": "code",
   "execution_count": 25,
   "id": "d2728c31",
   "metadata": {},
   "outputs": [
    {
     "name": "stdout",
     "output_type": "stream",
     "text": [
      "Index(['transaction_hash', 'block_hash', 'block_number', 'block_timestamp',\n",
      "       'index', 'script_asm', 'script_hex', 'required_signatures', 'type',\n",
      "       'addresses', 'value'],\n",
      "      dtype='object')\n"
     ]
    },
    {
     "name": "stderr",
     "output_type": "stream",
     "text": [
      "C:\\Users\\smby2\\AppData\\Roaming\\Python\\Python313\\site-packages\\google\\cloud\\bigquery\\table.py:1957: UserWarning: BigQuery Storage module not found, fetch data with the REST endpoint instead.\n",
      "  warnings.warn(\n"
     ]
    }
   ],
   "source": [
    "query5 = \"\"\"\n",
    "    SELECT *\n",
    "    FROM `bigquery-public-data.crypto_bitcoin.outputs` AS o\n",
    "    WHERE o.script_asm LIKE '%OP_RETURN%'\n",
    "    LIMIT 10\n",
    "\"\"\"\n",
    "\n",
    "df = client.query(query5).to_dataframe()\n",
    "print(df.columns)"
   ]
  },
  {
   "cell_type": "markdown",
   "id": "3f6232dc",
   "metadata": {},
   "source": [
    "Stopped here as of 5/31. when I left off, I was able to see that tables:\n",
    "A. bigquery-public-data.bitcoin_blockchain.blocks table\n",
    "B. bigquery-public-data.bitcoin_blockchain.transactions table\n",
    "C. bigquery-public-data.crypto_bitcoin.outputs table\n",
    "cointained the data I needed to connect block timestamp to messages hidden in OP_RETURN column (in the outputs table) \n",
    "1. blocks → has block_hash and block_timestamp\n",
    "2. transactions → has both transaction_hash and block_hash\n",
    "3. outputs → has transaction_hash\n",
    "\n",
    "\n",
    "\n"
   ]
  },
  {
   "cell_type": "code",
   "execution_count": null,
   "id": "ab4539e1",
   "metadata": {},
   "outputs": [],
   "source": []
  }
 ],
 "metadata": {
  "kernelspec": {
   "display_name": "Python 3",
   "language": "python",
   "name": "python3"
  },
  "language_info": {
   "codemirror_mode": {
    "name": "ipython",
    "version": 3
   },
   "file_extension": ".py",
   "mimetype": "text/x-python",
   "name": "python",
   "nbconvert_exporter": "python",
   "pygments_lexer": "ipython3",
   "version": "3.13.2"
  }
 },
 "nbformat": 4,
 "nbformat_minor": 5
}
