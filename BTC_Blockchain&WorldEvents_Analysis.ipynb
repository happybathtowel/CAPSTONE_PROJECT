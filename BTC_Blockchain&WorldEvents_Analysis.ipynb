{
 "cells": [
  {
   "cell_type": "markdown",
   "id": "d0209ea5",
   "metadata": {},
   "source": [
    "Goal: Examine correlations between global,socially significant events and Bitcoin blockchain metrics (block congestion, price movement, metadata notes) over time.\n",
    "Utilizing publick bitcoin blockchain datasets stored in bigquery\n",
    "to begin, I installed the following libraries:\n",
    "pip install google-cloud-bigquery pandas pyarrow\n",
    "\n",
    "Once I started trying to communicate with bigquery database, I had to also install:\n",
    "pip install db-dtypes\n",
    "to help pandas understand how to display data types used in SQL like \"DATE, TIMESTAMP, STRUCT,etc.\n",
    "\n",
    "Tables used:\n",
    " \n",
    "A. bigquery-public-data.bitcoin_blockchain.blocks table\n",
    "B. bigquery-public-data.bitcoin_blockchain.transactions table\n",
    "C. bigquery-public-data.crypto_bitcoin.outputs table\n"
   ]
  },
  {
   "cell_type": "code",
   "execution_count": null,
   "id": "b6a8c4bb",
   "metadata": {},
   "outputs": [
    {
     "name": "stdout",
     "output_type": "stream",
     "text": [
      "Defaulting to user installation because normal site-packages is not writeable\n",
      "Requirement already satisfied: db_dtypes in c:\\users\\smby2\\appdata\\roaming\\python\\python313\\site-packages (1.4.3)\n",
      "Requirement already satisfied: numpy>=1.24.0 in c:\\users\\smby2\\appdata\\roaming\\python\\python313\\site-packages (from db_dtypes) (2.2.4)\n",
      "Requirement already satisfied: packaging>=24.2.0 in c:\\users\\smby2\\appdata\\roaming\\python\\python313\\site-packages (from db_dtypes) (24.2)\n",
      "Requirement already satisfied: pandas>=1.5.3 in c:\\users\\smby2\\appdata\\roaming\\python\\python313\\site-packages (from db_dtypes) (2.2.3)\n",
      "Requirement already satisfied: pyarrow>=13.0.0 in c:\\users\\smby2\\appdata\\roaming\\python\\python313\\site-packages (from db_dtypes) (20.0.0)\n",
      "Requirement already satisfied: python-dateutil>=2.8.2 in c:\\users\\smby2\\appdata\\roaming\\python\\python313\\site-packages (from pandas>=1.5.3->db_dtypes) (2.9.0.post0)\n",
      "Requirement already satisfied: pytz>=2020.1 in c:\\users\\smby2\\appdata\\roaming\\python\\python313\\site-packages (from pandas>=1.5.3->db_dtypes) (2025.2)\n",
      "Requirement already satisfied: tzdata>=2022.7 in c:\\users\\smby2\\appdata\\roaming\\python\\python313\\site-packages (from pandas>=1.5.3->db_dtypes) (2025.2)\n",
      "Requirement already satisfied: six>=1.5 in c:\\users\\smby2\\appdata\\roaming\\python\\python313\\site-packages (from python-dateutil>=2.8.2->pandas>=1.5.3->db_dtypes) (1.17.0)\n",
      "Note: you may need to restart the kernel to use updated packages.\n"
     ]
    }
   ],
   "source": [
    "%pip install -r requirements.txt\n"
   ]
  },
  {
   "cell_type": "code",
   "execution_count": 10,
   "id": "08dae270",
   "metadata": {},
   "outputs": [],
   "source": [
    "from google.cloud import bigquery\n",
    "import os\n",
    "#Set the environement variable for key file (telling python where my login key file is)\n",
    "os.environ[\"GOOGLE_APPLICATION_CREDENTIALS\"] = \"Credentials/capstone-project-461516-4b2a88c5f4cd.json\"\n",
    "#Start the BigQuery client using my key\n",
    "client = bigquery.Client()\n",
    "\n"
   ]
  },
  {
   "cell_type": "code",
   "execution_count": 11,
   "id": "45244195",
   "metadata": {},
   "outputs": [
    {
     "name": "stdout",
     "output_type": "stream",
     "text": [
      "                                            block_id\n",
      "0  00000000000000000069564d0540f7d160fc7400e03c49...\n",
      "1  000000000000000000022ab0c5740584d31006ddcd1e20...\n",
      "2  000000000000000001628d23a7ba194fe9498676960947...\n",
      "3  00000000000000000025a758640f78eff1fe5bc472ff03...\n",
      "4  0000000000000000004769939c52cfa8e8f1585b580080...\n"
     ]
    }
   ],
   "source": [
    "#Testing my code to see if it is working:\n",
    "query1 = \"\"\"\n",
    "    SELECT block_id\n",
    "    FROM `bigquery-public-data.bitcoin_blockchain.blocks`\n",
    "    LIMIT 5\n",
    "\"\"\"\n",
    "\n",
    "\n",
    "df = client.query(query1).to_dataframe()\n",
    "print(df)"
   ]
  },
  {
   "cell_type": "code",
   "execution_count": 12,
   "id": "956ab7da",
   "metadata": {},
   "outputs": [
    {
     "name": "stdout",
     "output_type": "stream",
     "text": [
      "c:\\Python313\\python.exe\n"
     ]
    }
   ],
   "source": [
    "import sys\n",
    "print(sys.executable)\n"
   ]
  },
  {
   "cell_type": "code",
   "execution_count": 13,
   "id": "306a54ea",
   "metadata": {},
   "outputs": [
    {
     "name": "stdout",
     "output_type": "stream",
     "text": [
      "Index(['block_id'], dtype='object')\n"
     ]
    }
   ],
   "source": [
    "query2 = \"\"\"\n",
    "    SELECT *\n",
    "    FROM `bigquery-public-data.bitcoin_blockchain.blocks`\n",
    "    LIMIT 5\n",
    "\"\"\"\n",
    "print(df.columns)"
   ]
  },
  {
   "cell_type": "code",
   "execution_count": 14,
   "id": "858a2a01",
   "metadata": {},
   "outputs": [
    {
     "name": "stdout",
     "output_type": "stream",
     "text": [
      "Index(['block_id'], dtype='object')\n"
     ]
    }
   ],
   "source": [
    "query3 = \"\"\"\n",
    "    SELECT *\n",
    "    FROM `bigquery-public-data.bitcoin_blockchain.transactions`\n",
    "    LIMIT 5\n",
    "\"\"\"\n",
    "print(df.columns)"
   ]
  },
  {
   "cell_type": "code",
   "execution_count": 15,
   "id": "34e6e417",
   "metadata": {},
   "outputs": [
    {
     "name": "stderr",
     "output_type": "stream",
     "text": [
      "C:\\Users\\smby2\\AppData\\Roaming\\Python\\Python313\\site-packages\\google\\cloud\\bigquery\\table.py:1957: UserWarning: BigQuery Storage module not found, fetch data with the REST endpoint instead.\n",
      "  warnings.warn(\n"
     ]
    },
    {
     "name": "stdout",
     "output_type": "stream",
     "text": [
      "                                          script_asm  block_number value  \\\n",
      "0  OP_RETURN 58325bbc0b0f83bf38d794ddddcd41ac0944...        906690  0E-9   \n",
      "1  OP_RETURN 58325bbc0b0f83bf38d794ddddcd41ac0944...        906690  0E-9   \n",
      "2  OP_RETURN 00034db3c093ea8ba03987aed40813c04acb...        906690  0E-9   \n",
      "3  OP_RETURN 58325bbc0b0f83bf38d794ddddcd41ac0944...        906690  0E-9   \n",
      "4  OP_RETURN 58325bbc0b0f83bf38d794ddddcd41ac0944...        906690  0E-9   \n",
      "\n",
      "                                    transaction_hash  \n",
      "0  eb62fd85aedcd9fec45bad73d048a1e8d0f48ae17ababd...  \n",
      "1  124a375deda998fac0b70c561b83cc629117b96ff46b3f...  \n",
      "2  5161061aa560fb6b9541d97b34c05bf61bb0ff60ab5abb...  \n",
      "3  71587df89da762662f7e44011dbf2c362f600a7c0c896f...  \n",
      "4  9abf76d1f14e37a54a2a462fa332c46f3167ff9aa7c39c...  \n"
     ]
    }
   ],
   "source": [
    "query4 = \"\"\"\n",
    "    SELECT \n",
    "      o.script_asm,\n",
    "      o.block_number,\n",
    "      o.value,\n",
    "      o.transaction_hash\n",
    "    FROM `bigquery-public-data.crypto_bitcoin.outputs` AS o\n",
    "    WHERE o.script_asm LIKE '%OP_RETURN%'\n",
    "    LIMIT 10\n",
    "\"\"\"\n",
    "\n",
    "df = client.query(query4).to_dataframe()\n",
    "print(df.head())\n"
   ]
  },
  {
   "cell_type": "code",
   "execution_count": 16,
   "id": "d2728c31",
   "metadata": {},
   "outputs": [
    {
     "name": "stderr",
     "output_type": "stream",
     "text": [
      "C:\\Users\\smby2\\AppData\\Roaming\\Python\\Python313\\site-packages\\google\\cloud\\bigquery\\table.py:1957: UserWarning: BigQuery Storage module not found, fetch data with the REST endpoint instead.\n",
      "  warnings.warn(\n"
     ]
    },
    {
     "name": "stdout",
     "output_type": "stream",
     "text": [
      "Index(['transaction_hash', 'block_hash', 'block_number', 'block_timestamp',\n",
      "       'index', 'script_asm', 'script_hex', 'required_signatures', 'type',\n",
      "       'addresses', 'value'],\n",
      "      dtype='object')\n"
     ]
    }
   ],
   "source": [
    "query5 = \"\"\"\n",
    "    SELECT *\n",
    "    FROM `bigquery-public-data.crypto_bitcoin.outputs` AS o\n",
    "    WHERE o.script_asm LIKE '%OP_RETURN%'\n",
    "    LIMIT 10\n",
    "\"\"\"\n",
    "\n",
    "df = client.query(query5).to_dataframe()\n",
    "print(df.columns)"
   ]
  },
  {
   "cell_type": "markdown",
   "id": "3f6232dc",
   "metadata": {},
   "source": [
    "Stopped here as of 5/31. when I left off, I was able to see that tables:\n",
    "A. bigquery-public-data.bitcoin_blockchain.blocks table\n",
    "B. bigquery-public-data.bitcoin_blockchain.transactions table\n",
    "C. bigquery-public-data.crypto_bitcoin.outputs table\n",
    "cointained the data I needed to connect block timestamp to messages hidden in OP_RETURN column (in the outputs table) \n",
    "1. blocks → has block_hash and block_timestamp\n",
    "2. transactions → has both transaction_hash and block_hash\n",
    "3. outputs → has transaction_hash\n",
    "\n",
    "\n",
    "\n"
   ]
  },
  {
   "cell_type": "code",
   "execution_count": null,
   "id": "ab4539e1",
   "metadata": {},
   "outputs": [],
   "source": []
  }
 ],
 "metadata": {
  "kernelspec": {
   "display_name": "Python 3",
   "language": "python",
   "name": "python3"
  },
  "language_info": {
   "codemirror_mode": {
    "name": "ipython",
    "version": 3
   },
   "file_extension": ".py",
   "mimetype": "text/x-python",
   "name": "python",
   "nbconvert_exporter": "python",
   "pygments_lexer": "ipython3",
   "version": "3.13.2"
  }
 },
 "nbformat": 4,
 "nbformat_minor": 5
}
