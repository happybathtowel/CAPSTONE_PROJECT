{
 "cells": [
  {
   "cell_type": "markdown",
   "id": "d0209ea5",
   "metadata": {},
   "source": [
    "Goal: Examine correlations between global,socially significant events and Bitcoin blockchain metrics (block congestion, price movement, metadata notes) over time.\n",
    "Utilizing publick bitcoin blockchain datasets stored in bigquery\n",
    "to begin, I installed the following libraries:\n",
    "pip install google-cloud-bigquery pandas pyarrow\n",
    "\n",
    "Once I started trying to communicate with bigquery database, I had to also install:\n",
    "pip install db-dtypes\n",
    "to help pandas understand how to display data types used in SQL like \"DATE, TIMESTAMP, STRUCT,etc.\n",
    "\n",
    "Tables used:\n",
    " \n",
    "A. bigquery-public-data.bitcoin_blockchain.blocks table\n",
    "B. bigquery-public-data.bitcoin_blockchain.transactions table\n",
    "C. bigquery-public-data.crypto_bitcoin.outputs table\n"
   ]
  },
  {
   "cell_type": "code",
   "execution_count": 1,
   "id": "b6a8c4bb",
   "metadata": {},
   "outputs": [
    {
     "name": "stdout",
     "output_type": "stream",
     "text": [
      "Defaulting to user installation because normal site-packages is not writeable\n",
      "Requirement already satisfied: db_dtypes in c:\\users\\smby2\\appdata\\roaming\\python\\python313\\site-packages (1.4.3)\n",
      "Requirement already satisfied: numpy>=1.24.0 in c:\\users\\smby2\\appdata\\roaming\\python\\python313\\site-packages (from db_dtypes) (2.2.4)\n",
      "Requirement already satisfied: packaging>=24.2.0 in c:\\users\\smby2\\appdata\\roaming\\python\\python313\\site-packages (from db_dtypes) (24.2)\n",
      "Requirement already satisfied: pandas>=1.5.3 in c:\\users\\smby2\\appdata\\roaming\\python\\python313\\site-packages (from db_dtypes) (2.2.3)\n",
      "Requirement already satisfied: pyarrow>=13.0.0 in c:\\users\\smby2\\appdata\\roaming\\python\\python313\\site-packages (from db_dtypes) (20.0.0)\n",
      "Requirement already satisfied: python-dateutil>=2.8.2 in c:\\users\\smby2\\appdata\\roaming\\python\\python313\\site-packages (from pandas>=1.5.3->db_dtypes) (2.9.0.post0)\n",
      "Requirement already satisfied: pytz>=2020.1 in c:\\users\\smby2\\appdata\\roaming\\python\\python313\\site-packages (from pandas>=1.5.3->db_dtypes) (2025.2)\n",
      "Requirement already satisfied: tzdata>=2022.7 in c:\\users\\smby2\\appdata\\roaming\\python\\python313\\site-packages (from pandas>=1.5.3->db_dtypes) (2025.2)\n",
      "Requirement already satisfied: six>=1.5 in c:\\users\\smby2\\appdata\\roaming\\python\\python313\\site-packages (from python-dateutil>=2.8.2->pandas>=1.5.3->db_dtypes) (1.17.0)\n",
      "Note: you may need to restart the kernel to use updated packages.\n"
     ]
    }
   ],
   "source": [
    "%pip install db_dtypes\n"
   ]
  },
  {
   "cell_type": "code",
   "execution_count": 2,
   "id": "08dae270",
   "metadata": {},
   "outputs": [],
   "source": [
    "from google.cloud import bigquery\n",
    "import os\n",
    "#Set the environement variable for key file (telling python where my login key file is)\n",
    "os.environ[\"GOOGLE_APPLICATION_CREDENTIALS\"] = \"Credentials/capstone-project-461516-4b2a88c5f4cd.json\"\n",
    "#Start the BigQuery client using my key\n",
    "client = bigquery.Client()\n",
    "\n"
   ]
  },
  {
   "cell_type": "code",
   "execution_count": 3,
   "id": "45244195",
   "metadata": {},
   "outputs": [
    {
     "name": "stdout",
     "output_type": "stream",
     "text": [
      "                                            block_id\n",
      "0  00000000000000000045fc015fe17335fdedb9ebca4b3d...\n",
      "1  000000000000000000051cb4a6272786418c5357bff9d0...\n",
      "2  000000000000000000d091f9c5d7815e1a685f702b4164...\n",
      "3  000000000000000000235b8a4ec7a7cc12c1c9133f2d34...\n",
      "4  000000000000000000719106d55fea7af59d31cacef736...\n"
     ]
    },
    {
     "name": "stderr",
     "output_type": "stream",
     "text": [
      "C:\\Users\\smby2\\AppData\\Roaming\\Python\\Python313\\site-packages\\google\\cloud\\bigquery\\table.py:1957: UserWarning: BigQuery Storage module not found, fetch data with the REST endpoint instead.\n",
      "  warnings.warn(\n"
     ]
    }
   ],
   "source": [
    "#Testing my code to see if it is working:\n",
    "query1 = \"\"\"\n",
    "    SELECT block_id\n",
    "    FROM `bigquery-public-data.bitcoin_blockchain.blocks`\n",
    "    LIMIT 5\n",
    "\"\"\"\n",
    "\n",
    "\n",
    "df = client.query(query1).to_dataframe()\n",
    "print(df)"
   ]
  },
  {
   "cell_type": "code",
   "execution_count": 4,
   "id": "956ab7da",
   "metadata": {},
   "outputs": [
    {
     "name": "stdout",
     "output_type": "stream",
     "text": [
      "c:\\Python313\\python.exe\n"
     ]
    }
   ],
   "source": [
    "import sys\n",
    "print(sys.executable)\n"
   ]
  },
  {
   "cell_type": "code",
   "execution_count": 5,
   "id": "306a54ea",
   "metadata": {},
   "outputs": [
    {
     "name": "stdout",
     "output_type": "stream",
     "text": [
      "Index(['block_id'], dtype='object')\n"
     ]
    }
   ],
   "source": [
    "query2 = \"\"\"\n",
    "    SELECT *\n",
    "    FROM `bigquery-public-data.bitcoin_blockchain.blocks`\n",
    "    LIMIT 5\n",
    "\"\"\"\n",
    "print(df.columns)"
   ]
  },
  {
   "cell_type": "code",
   "execution_count": 6,
   "id": "858a2a01",
   "metadata": {},
   "outputs": [
    {
     "name": "stdout",
     "output_type": "stream",
     "text": [
      "Index(['block_id'], dtype='object')\n"
     ]
    }
   ],
   "source": [
    "query3 = \"\"\"\n",
    "    SELECT *\n",
    "    FROM `bigquery-public-data.bitcoin_blockchain.transactions`\n",
    "    LIMIT 5\n",
    "\"\"\"\n",
    "print(df.columns)"
   ]
  },
  {
   "cell_type": "code",
   "execution_count": 7,
   "id": "34e6e417",
   "metadata": {},
   "outputs": [
    {
     "name": "stdout",
     "output_type": "stream",
     "text": [
      "                                          script_asm  block_number value  \\\n",
      "0  OP_RETURN 48454d4901015b8a39001fb229e9d7ae0540...        902567  0E-9   \n",
      "1    OP_RETURN 13 ff7f818cec82d08bc0a882e1aefe88bc02        902567  0E-9   \n",
      "2    OP_RETURN 13 ff7f818cec82d08bc0a882e1aefe88bc02        902567  0E-9   \n",
      "3  OP_RETURN 6664653a746f3a44414928425343293a3078...        902567  0E-9   \n",
      "4  OP_RETURN 48454d4901015b898b001fb17a79e61ee382...        902567  0E-9   \n",
      "\n",
      "                                    transaction_hash  \n",
      "0  a56542c564454a5633e0b4330188e9e156fe7304ab979d...  \n",
      "1  dff7afc4f712d58e9f7f6ed58a09d15f8586878a291001...  \n",
      "2  a0cce63135aa219adecbc9bf35da31510d5bea46770953...  \n",
      "3  440fc77213c660d51a65c8058f7cf8214471e941ac7b5f...  \n",
      "4  9a333bf3cd9f5c8b02fc0aa1c02a09a92f3cbf5ea78971...  \n"
     ]
    },
    {
     "name": "stderr",
     "output_type": "stream",
     "text": [
      "C:\\Users\\smby2\\AppData\\Roaming\\Python\\Python313\\site-packages\\google\\cloud\\bigquery\\table.py:1957: UserWarning: BigQuery Storage module not found, fetch data with the REST endpoint instead.\n",
      "  warnings.warn(\n"
     ]
    }
   ],
   "source": [
    "query4 = \"\"\"\n",
    "    SELECT \n",
    "      o.script_asm,\n",
    "      o.block_number,\n",
    "      o.value,\n",
    "      o.transaction_hash\n",
    "    FROM `bigquery-public-data.crypto_bitcoin.outputs` AS o\n",
    "    WHERE o.script_asm LIKE '%OP_RETURN%'\n",
    "    LIMIT 10\n",
    "\"\"\"\n",
    "\n",
    "df = client.query(query4).to_dataframe()\n",
    "print(df.head())\n"
   ]
  },
  {
   "cell_type": "code",
   "execution_count": 8,
   "id": "d2728c31",
   "metadata": {},
   "outputs": [
    {
     "name": "stdout",
     "output_type": "stream",
     "text": [
      "Index(['transaction_hash', 'block_hash', 'block_number', 'block_timestamp',\n",
      "       'index', 'script_asm', 'script_hex', 'required_signatures', 'type',\n",
      "       'addresses', 'value'],\n",
      "      dtype='object')\n"
     ]
    },
    {
     "name": "stderr",
     "output_type": "stream",
     "text": [
      "C:\\Users\\smby2\\AppData\\Roaming\\Python\\Python313\\site-packages\\google\\cloud\\bigquery\\table.py:1957: UserWarning: BigQuery Storage module not found, fetch data with the REST endpoint instead.\n",
      "  warnings.warn(\n"
     ]
    }
   ],
   "source": [
    "query5 = \"\"\"\n",
    "    SELECT *\n",
    "    FROM `bigquery-public-data.crypto_bitcoin.outputs` AS o\n",
    "    WHERE o.script_asm LIKE '%OP_RETURN%'\n",
    "    LIMIT 10\n",
    "\"\"\"\n",
    "\n",
    "df = client.query(query5).to_dataframe()\n",
    "print(df.columns)"
   ]
  },
  {
   "cell_type": "markdown",
   "id": "3f6232dc",
   "metadata": {},
   "source": [
    "Stopped here as of 5/31. when I left off, I was able to see that tables:\n",
    "A. bigquery-public-data.bitcoin_blockchain.blocks table\n",
    "B. bigquery-public-data.bitcoin_blockchain.transactions table\n",
    "C. bigquery-public-data.crypto_bitcoin.outputs table\n",
    "cointained the data I needed to connect block timestamp to messages hidden in OP_RETURN column (in the outputs table) \n",
    "1. blocks → has block_hash and block_timestamp\n",
    "2. transactions → has both transaction_hash and block_hash\n",
    "3. outputs → has transaction_hash\n",
    "\n",
    "\n",
    "\n"
   ]
  },
  {
   "cell_type": "code",
   "execution_count": null,
   "id": "ab4539e1",
   "metadata": {},
   "outputs": [],
   "source": []
  }
 ],
 "metadata": {
  "kernelspec": {
   "display_name": "Python 3",
   "language": "python",
   "name": "python3"
  },
  "language_info": {
   "codemirror_mode": {
    "name": "ipython",
    "version": 3
   },
   "file_extension": ".py",
   "mimetype": "text/x-python",
   "name": "python",
   "nbconvert_exporter": "python",
   "pygments_lexer": "ipython3",
   "version": "3.13.2"
  }
 },
 "nbformat": 4,
 "nbformat_minor": 5
}
